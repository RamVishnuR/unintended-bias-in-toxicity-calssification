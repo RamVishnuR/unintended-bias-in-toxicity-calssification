{
  "cells": [
    {
      "cell_type": "code",
      "execution_count": null,
      "id": "5e81989f",
      "metadata": {
        "execution": {
          "iopub.execute_input": "2022-08-28T07:09:13.959681Z",
          "iopub.status.busy": "2022-08-28T07:09:13.959140Z",
          "iopub.status.idle": "2022-08-28T07:09:19.989067Z",
          "shell.execute_reply": "2022-08-28T07:09:19.988093Z"
        },
        "papermill": {
          "duration": 6.043308,
          "end_time": "2022-08-28T07:09:19.991484",
          "exception": false,
          "start_time": "2022-08-28T07:09:13.948176",
          "status": "completed"
        },
        "tags": [],
        "id": "5e81989f"
      },
      "outputs": [],
      "source": [
        "import numpy as np\n",
        "import pandas as pd\n",
        "from keras.models import Model\n",
        "from keras.layers import Input, Dense, Embedding, SpatialDropout1D, add, concatenate\n",
        "from keras.layers import CuDNNLSTM, Bidirectional, GlobalMaxPooling1D, GlobalAveragePooling1D\n",
        "from keras.preprocessing import text, sequence\n",
        "from gensim.models import KeyedVectors\n",
        "from tqdm import tqdm\n",
        "\n",
        "from sklearn import metrics\n",
        "from sklearn import model_selection\n",
        "import matplotlib.pyplot as plt\n",
        "from sklearn.metrics import confusion_matrix"
      ]
    },
    {
      "cell_type": "code",
      "source": [
        "from google.colab import drive\n",
        "drive.mount('/content/drive')"
      ],
      "metadata": {
        "colab": {
          "base_uri": "https://localhost:8080/"
        },
        "id": "7eEvM0fecDTo",
        "outputId": "fb56303d-fef7-4d4e-b391-e02997478369"
      },
      "id": "7eEvM0fecDTo",
      "execution_count": null,
      "outputs": [
        {
          "output_type": "stream",
          "name": "stdout",
          "text": [
            "Drive already mounted at /content/drive; to attempt to forcibly remount, call drive.mount(\"/content/drive\", force_remount=True).\n"
          ]
        }
      ]
    },
    {
      "cell_type": "code",
      "execution_count": null,
      "id": "27a324c4",
      "metadata": {
        "execution": {
          "iopub.execute_input": "2022-08-28T07:09:20.001764Z",
          "iopub.status.busy": "2022-08-28T07:09:20.001015Z",
          "iopub.status.idle": "2022-08-28T07:09:20.006705Z",
          "shell.execute_reply": "2022-08-28T07:09:20.005867Z"
        },
        "papermill": {
          "duration": 0.012701,
          "end_time": "2022-08-28T07:09:20.008708",
          "exception": false,
          "start_time": "2022-08-28T07:09:19.996007",
          "status": "completed"
        },
        "tags": [],
        "id": "27a324c4"
      },
      "outputs": [],
      "source": [
        "EMBEDDING_FILES = [\n",
        "    '/content/drive/MyDrive/Data/crawl-300d-2M.vec',\n",
        "    '/content/drive/MyDrive/Data/glove.840B.300d.txt'\n",
        "]"
      ]
    },
    {
      "cell_type": "code",
      "execution_count": null,
      "id": "d3c3347f",
      "metadata": {
        "execution": {
          "iopub.execute_input": "2022-08-28T07:09:20.017252Z",
          "iopub.status.busy": "2022-08-28T07:09:20.016990Z",
          "iopub.status.idle": "2022-08-28T07:09:20.022872Z",
          "shell.execute_reply": "2022-08-28T07:09:20.022016Z"
        },
        "papermill": {
          "duration": 0.012419,
          "end_time": "2022-08-28T07:09:20.024863",
          "exception": false,
          "start_time": "2022-08-28T07:09:20.012444",
          "status": "completed"
        },
        "tags": [],
        "id": "d3c3347f"
      },
      "outputs": [],
      "source": [
        "NUM_MODELS = 2\n",
        "BATCH_SIZE = 512\n",
        "LSTM_UNITS = 128\n",
        "DENSE_HIDDEN_UNITS = 4 * LSTM_UNITS\n",
        "EPOCHS = 4\n",
        "MAX_LEN = 220\n",
        "IDENTITY_COLUMNS = [\n",
        "    'male', 'female', 'homosexual_gay_or_lesbian', 'christian', 'jewish',\n",
        "    'muslim', 'black', 'white', 'psychiatric_or_mental_illness'\n",
        "]\n",
        "AUX_COLUMNS = ['target', 'severe_toxicity', 'obscene', 'identity_attack', 'insult', 'threat']\n",
        "TEXT_COLUMN = 'comment_text'\n",
        "TARGET_COLUMN = 'target_boolean'\n",
        "CHARS_TO_REMOVE = '!\"#$%&()*+,-./:;<=>?@[\\\\]^_`{|}~\\t\\n“”’\\'∞θ÷α•à−β∅³π‘₹´°£€\\×™√²—'"
      ]
    },
    {
      "cell_type": "code",
      "execution_count": null,
      "id": "d5d33ee5",
      "metadata": {
        "execution": {
          "iopub.execute_input": "2022-08-28T07:09:20.033441Z",
          "iopub.status.busy": "2022-08-28T07:09:20.033189Z",
          "iopub.status.idle": "2022-08-28T07:09:20.037197Z",
          "shell.execute_reply": "2022-08-28T07:09:20.036251Z"
        },
        "papermill": {
          "duration": 0.010622,
          "end_time": "2022-08-28T07:09:20.039209",
          "exception": false,
          "start_time": "2022-08-28T07:09:20.028587",
          "status": "completed"
        },
        "tags": [],
        "id": "d5d33ee5"
      },
      "outputs": [],
      "source": [
        "def get_coefs(word, *arr):\n",
        "    return word, np.asarray(arr, dtype='float32')"
      ]
    },
    {
      "cell_type": "code",
      "execution_count": null,
      "id": "60f6f22d",
      "metadata": {
        "execution": {
          "iopub.execute_input": "2022-08-28T07:09:20.048626Z",
          "iopub.status.busy": "2022-08-28T07:09:20.047773Z",
          "iopub.status.idle": "2022-08-28T07:09:20.052991Z",
          "shell.execute_reply": "2022-08-28T07:09:20.052191Z"
        },
        "papermill": {
          "duration": 0.011791,
          "end_time": "2022-08-28T07:09:20.054922",
          "exception": false,
          "start_time": "2022-08-28T07:09:20.043131",
          "status": "completed"
        },
        "tags": [],
        "id": "60f6f22d"
      },
      "outputs": [],
      "source": [
        "def load_embeddings(path):\n",
        "    #each line in the file looks like \n",
        "    # apple 0.3 0.4 0.5 0.6 ...\n",
        "    # that is a word followed by 300 float numbers\n",
        "\n",
        "    with open(path) as f:\n",
        "        #return dict(get_coefs(*line.strip().split(' ')) for line in f)\n",
        "        return dict(get_coefs(*o.strip().split(\" \")) for o in tqdm(f))"
      ]
    },
    {
      "cell_type": "code",
      "execution_count": null,
      "id": "40f82e39",
      "metadata": {
        "execution": {
          "iopub.execute_input": "2022-08-28T07:09:20.064068Z",
          "iopub.status.busy": "2022-08-28T07:09:20.063486Z",
          "iopub.status.idle": "2022-08-28T07:09:20.069683Z",
          "shell.execute_reply": "2022-08-28T07:09:20.068920Z"
        },
        "papermill": {
          "duration": 0.012955,
          "end_time": "2022-08-28T07:09:20.071556",
          "exception": false,
          "start_time": "2022-08-28T07:09:20.058601",
          "status": "completed"
        },
        "tags": [],
        "id": "40f82e39"
      },
      "outputs": [],
      "source": [
        "#def build_matrix(word_index, path):\n",
        "#    embedding_index = KeyedVectors.load(path, mmap='r')\n",
        "#    embedding_matrix = np.zeros((len(word_index) + 1, 300))\n",
        "#    for word, i in word_index.items():\n",
        "#        for candidate in [word, word.lower()]:\n",
        "#            if candidate in embedding_index:\n",
        "#                embedding_matrix[i] = embedding_index[candidate]\n",
        "#                break\n",
        "#    return embedding_matrix\n",
        "\n",
        "def build_matrix(word_index, path):\n",
        "    #path: a path that contains embedding matrix\n",
        "    #word_index is a dict of the form ('apple': 123, 'banana': 349, etc)\n",
        "    # that means word_index[word] gives the index of the word\n",
        "    # word_index was built from all commment_texts\n",
        "\n",
        "    #we will construct an embedding_matrix for the words in word_index\n",
        "    #using pre-trained embedding word vectors from 'path'\n",
        "\n",
        "    embedding_index = load_embeddings(path)\n",
        "\n",
        "    #embedding_matrix is a matrix of len(word_index)+1  x 300\n",
        "    embedding_matrix = np.zeros((len(word_index) + 1, 300))\n",
        "\n",
        "    # word_index is a dict. Each element is (word:i) where i is the index\n",
        "    # of the word\n",
        "    for word, i in word_index.items():\n",
        "        try:\n",
        "            #RHS is a vector of 300d\n",
        "            embedding_matrix[i] = embedding_index[word]\n",
        "        except KeyError:\n",
        "            pass\n",
        "    return embedding_matrix"
      ]
    },
    {
      "cell_type": "code",
      "execution_count": null,
      "id": "26c58ec1",
      "metadata": {
        "execution": {
          "iopub.execute_input": "2022-08-28T07:09:20.080473Z",
          "iopub.status.busy": "2022-08-28T07:09:20.079972Z",
          "iopub.status.idle": "2022-08-28T07:09:20.088496Z",
          "shell.execute_reply": "2022-08-28T07:09:20.087549Z"
        },
        "papermill": {
          "duration": 0.015198,
          "end_time": "2022-08-28T07:09:20.090447",
          "exception": false,
          "start_time": "2022-08-28T07:09:20.075249",
          "status": "completed"
        },
        "tags": [],
        "id": "26c58ec1"
      },
      "outputs": [],
      "source": [
        "def build_model(embedding_matrix, num_aux_targets):\n",
        "    words = Input(shape=(None,))\n",
        "    x = Embedding(*embedding_matrix.shape, weights=[embedding_matrix], trainable=False)(words)\n",
        "    x = SpatialDropout1D(0.2)(x)\n",
        "    x = Bidirectional(CuDNNLSTM(LSTM_UNITS, return_sequences=True))(x)\n",
        "    x = Bidirectional(CuDNNLSTM(LSTM_UNITS, return_sequences=True))(x)\n",
        "\n",
        "    hidden = concatenate([\n",
        "        GlobalMaxPooling1D()(x),\n",
        "        GlobalAveragePooling1D()(x),\n",
        "    ])\n",
        "    hidden = add([hidden, Dense(DENSE_HIDDEN_UNITS, activation='relu')(hidden)])\n",
        "    hidden = add([hidden, Dense(DENSE_HIDDEN_UNITS, activation='relu')(hidden)])\n",
        "    result = Dense(1, activation='sigmoid')(hidden)\n",
        "    aux_result = Dense(num_aux_targets, activation='sigmoid')(hidden)\n",
        "    \n",
        "    model = Model(inputs=words, outputs=[result, aux_result])\n",
        "    model.compile(loss='binary_crossentropy', optimizer='adam')\n",
        "\n",
        "    return model"
      ]
    },
    {
      "cell_type": "code",
      "execution_count": null,
      "id": "8a86980f",
      "metadata": {
        "execution": {
          "iopub.execute_input": "2022-08-28T07:09:20.098700Z",
          "iopub.status.busy": "2022-08-28T07:09:20.098451Z",
          "iopub.status.idle": "2022-08-28T07:09:41.664512Z",
          "shell.execute_reply": "2022-08-28T07:09:41.663545Z"
        },
        "papermill": {
          "duration": 21.572736,
          "end_time": "2022-08-28T07:09:41.666860",
          "exception": false,
          "start_time": "2022-08-28T07:09:20.094124",
          "status": "completed"
        },
        "tags": [],
        "id": "8a86980f"
      },
      "outputs": [],
      "source": [
        "#train_df = pd.read_csv('/content/drive/MyDrive/Data/jigsaw-unintended-bias-in-toxicity-classification/train.csv')\n",
        "#test_df = pd.read_csv('/content/drive/MyDrive/Data/jigsaw-unintended-bias-in-toxicity-classification/test.csv')\n",
        "\n",
        "raw_train = pd.read_csv('/content/drive/MyDrive/Data/jigsaw-unintended-bias-in-toxicity-classification/train.csv')\n",
        "\n",
        "train_df, test_df = model_selection.train_test_split(raw_train, test_size=0.2)"
      ]
    },
    {
      "cell_type": "code",
      "execution_count": null,
      "id": "0db8e6e9",
      "metadata": {
        "execution": {
          "iopub.execute_input": "2022-08-28T07:09:41.677594Z",
          "iopub.status.busy": "2022-08-28T07:09:41.675903Z",
          "iopub.status.idle": "2022-08-28T07:09:41.908186Z",
          "shell.execute_reply": "2022-08-28T07:09:41.906504Z"
        },
        "papermill": {
          "duration": 0.240789,
          "end_time": "2022-08-28T07:09:41.911851",
          "exception": false,
          "start_time": "2022-08-28T07:09:41.671062",
          "status": "completed"
        },
        "tags": [],
        "id": "0db8e6e9"
      },
      "outputs": [],
      "source": [
        "x_train = train_df[TEXT_COLUMN].astype(str)\n",
        "y_train = train_df[TARGET_COLUMN].values\n",
        "y_aux_train = train_df[AUX_COLUMNS].values\n",
        "x_test = test_df[TEXT_COLUMN].astype(str)\n",
        "y_test = test_df[TARGET_COLUMN].values"
      ]
    },
    {
      "cell_type": "code",
      "execution_count": null,
      "id": "a87bae8f",
      "metadata": {
        "execution": {
          "iopub.execute_input": "2022-08-28T07:09:41.927433Z",
          "iopub.status.busy": "2022-08-28T07:09:41.925485Z",
          "iopub.status.idle": "2022-08-28T07:09:43.123477Z",
          "shell.execute_reply": "2022-08-28T07:09:43.122425Z"
        },
        "papermill": {
          "duration": 1.208445,
          "end_time": "2022-08-28T07:09:43.125965",
          "exception": false,
          "start_time": "2022-08-28T07:09:41.917520",
          "status": "completed"
        },
        "tags": [],
        "id": "a87bae8f"
      },
      "outputs": [],
      "source": [
        "for column in IDENTITY_COLUMNS + [TARGET_COLUMN]:\n",
        "    train_df[column] = np.where(train_df[column] >= 0.5, True, False)"
      ]
    },
    {
      "cell_type": "code",
      "execution_count": null,
      "id": "cdbdf78d",
      "metadata": {
        "execution": {
          "iopub.execute_input": "2022-08-28T07:09:43.135949Z",
          "iopub.status.busy": "2022-08-28T07:09:43.135120Z",
          "iopub.status.idle": "2022-08-28T07:11:27.206678Z",
          "shell.execute_reply": "2022-08-28T07:11:27.205580Z"
        },
        "papermill": {
          "duration": 104.078988,
          "end_time": "2022-08-28T07:11:27.209302",
          "exception": false,
          "start_time": "2022-08-28T07:09:43.130314",
          "status": "completed"
        },
        "tags": [],
        "id": "cdbdf78d"
      },
      "outputs": [],
      "source": [
        "tokenizer = text.Tokenizer(filters=CHARS_TO_REMOVE, lower=False)\n",
        "tokenizer.fit_on_texts(list(x_train) + list(x_test))"
      ]
    },
    {
      "cell_type": "code",
      "execution_count": null,
      "id": "4385345f",
      "metadata": {
        "execution": {
          "iopub.execute_input": "2022-08-28T07:11:27.220095Z",
          "iopub.status.busy": "2022-08-28T07:11:27.218443Z",
          "iopub.status.idle": "2022-08-28T07:12:56.900453Z",
          "shell.execute_reply": "2022-08-28T07:12:56.899412Z"
        },
        "papermill": {
          "duration": 89.689493,
          "end_time": "2022-08-28T07:12:56.903013",
          "exception": false,
          "start_time": "2022-08-28T07:11:27.213520",
          "status": "completed"
        },
        "tags": [],
        "id": "4385345f"
      },
      "outputs": [],
      "source": [
        "x_train = tokenizer.texts_to_sequences(x_train)\n",
        "x_test = tokenizer.texts_to_sequences(x_test)\n",
        "x_train = sequence.pad_sequences(x_train, maxlen=MAX_LEN)\n",
        "x_test = sequence.pad_sequences(x_test, maxlen=MAX_LEN)"
      ]
    },
    {
      "cell_type": "code",
      "execution_count": null,
      "id": "82035960",
      "metadata": {
        "execution": {
          "iopub.execute_input": "2022-08-28T07:12:56.913402Z",
          "iopub.status.busy": "2022-08-28T07:12:56.912493Z",
          "iopub.status.idle": "2022-08-28T07:12:57.043906Z",
          "shell.execute_reply": "2022-08-28T07:12:57.042943Z"
        },
        "papermill": {
          "duration": 0.138884,
          "end_time": "2022-08-28T07:12:57.046292",
          "exception": false,
          "start_time": "2022-08-28T07:12:56.907408",
          "status": "completed"
        },
        "tags": [],
        "id": "82035960"
      },
      "outputs": [],
      "source": [
        "sample_weights = np.ones(len(x_train), dtype=np.float32)\n",
        "sample_weights += train_df[IDENTITY_COLUMNS].sum(axis=1)\n",
        "sample_weights += train_df[TARGET_COLUMN] * (~train_df[IDENTITY_COLUMNS]).sum(axis=1)\n",
        "sample_weights += (~train_df[TARGET_COLUMN]) * train_df[IDENTITY_COLUMNS].sum(axis=1) * 5\n",
        "sample_weights /= sample_weights.mean()"
      ]
    },
    {
      "cell_type": "code",
      "execution_count": null,
      "id": "450b9aea",
      "metadata": {
        "execution": {
          "iopub.execute_input": "2022-08-28T07:12:57.056354Z",
          "iopub.status.busy": "2022-08-28T07:12:57.056061Z",
          "iopub.status.idle": "2022-08-28T07:17:37.637266Z",
          "shell.execute_reply": "2022-08-28T07:17:37.636292Z"
        },
        "papermill": {
          "duration": 280.589425,
          "end_time": "2022-08-28T07:17:37.639757",
          "exception": false,
          "start_time": "2022-08-28T07:12:57.050332",
          "status": "completed"
        },
        "tags": [],
        "colab": {
          "base_uri": "https://localhost:8080/"
        },
        "id": "450b9aea",
        "outputId": "694aab2f-37c4-4188-f63c-2200b538e966"
      },
      "outputs": [
        {
          "output_type": "stream",
          "name": "stderr",
          "text": [
            "1999996it [02:19, 14324.80it/s]\n",
            "2196017it [02:30, 14618.48it/s]\n"
          ]
        }
      ],
      "source": [
        "embedding_matrix = np.concatenate(\n",
        "    [build_matrix(tokenizer.word_index, f) for f in EMBEDDING_FILES], axis=-1)"
      ]
    },
    {
      "cell_type": "code",
      "execution_count": null,
      "id": "329921c1",
      "metadata": {
        "execution": {
          "iopub.execute_input": "2022-08-28T07:17:37.910485Z",
          "iopub.status.busy": "2022-08-28T07:17:37.910147Z"
        },
        "papermill": {
          "duration": 1651.130038,
          "end_time": "2022-08-28T07:45:08.904305",
          "exception": false,
          "start_time": "2022-08-28T07:17:37.774267",
          "status": "completed"
        },
        "tags": [],
        "colab": {
          "base_uri": "https://localhost:8080/"
        },
        "id": "329921c1",
        "outputId": "3e990c1b-c9c6-4fb7-d769-0fb911e5e995"
      },
      "outputs": [
        {
          "output_type": "stream",
          "name": "stdout",
          "text": [
            "2821/2821 - 836s - loss: 0.5292 - dense_2_loss: 0.4217 - dense_3_loss: 0.1075 - 836s/epoch - 296ms/step\n",
            "2821/2821 - 827s - loss: 0.5099 - dense_2_loss: 0.4073 - dense_3_loss: 0.1026 - 827s/epoch - 293ms/step\n",
            "2821/2821 - 827s - loss: 0.5040 - dense_2_loss: 0.4024 - dense_3_loss: 0.1016 - 827s/epoch - 293ms/step\n",
            "2821/2821 - 826s - loss: 0.4993 - dense_2_loss: 0.3984 - dense_3_loss: 0.1009 - 826s/epoch - 293ms/step\n",
            "2821/2821 - 828s - loss: 0.5294 - dense_6_loss: 0.4217 - dense_7_loss: 0.1076 - 828s/epoch - 294ms/step\n",
            "2821/2821 - 824s - loss: 0.5102 - dense_6_loss: 0.4075 - dense_7_loss: 0.1027 - 824s/epoch - 292ms/step\n",
            "2821/2821 - 825s - loss: 0.5043 - dense_6_loss: 0.4026 - dense_7_loss: 0.1016 - 825s/epoch - 293ms/step\n",
            "2821/2821 - 824s - loss: 0.4997 - dense_6_loss: 0.3987 - dense_7_loss: 0.1010 - 824s/epoch - 292ms/step\n"
          ]
        }
      ],
      "source": [
        "checkpoint_predictions = []\n",
        "weights = []\n",
        "\n",
        "for model_idx in range(NUM_MODELS):\n",
        "    model = build_model(embedding_matrix, y_aux_train.shape[-1])\n",
        "    for global_epoch in range(EPOCHS):\n",
        "        model.fit(\n",
        "            x_train,\n",
        "            [y_train, y_aux_train],\n",
        "            batch_size=BATCH_SIZE,\n",
        "            epochs=1,\n",
        "            verbose=2,\n",
        "            sample_weight=[sample_weights.values, np.ones_like(sample_weights)]\n",
        "        )\n",
        "        checkpoint_predictions.append(model.predict(x_test, batch_size=2048)[0].flatten())\n",
        "        weights.append(2 ** global_epoch)"
      ]
    },
    {
      "cell_type": "code",
      "source": [
        "predictions = np.average(checkpoint_predictions, weights=weights, axis=0)"
      ],
      "metadata": {
        "id": "REXlH0wtNsz9"
      },
      "id": "REXlH0wtNsz9",
      "execution_count": null,
      "outputs": []
    },
    {
      "cell_type": "code",
      "execution_count": null,
      "id": "526bbd37",
      "metadata": {
        "execution": {
          "iopub.status.busy": "2022-08-28T06:37:06.836370Z",
          "iopub.status.idle": "2022-08-28T06:37:06.836842Z",
          "shell.execute_reply": "2022-08-28T06:37:06.836598Z",
          "shell.execute_reply.started": "2022-08-28T06:37:06.836576Z"
        },
        "papermill": {
          "duration": null,
          "end_time": null,
          "exception": null,
          "start_time": null,
          "status": "completed"
        },
        "tags": [],
        "id": "526bbd37"
      },
      "outputs": [],
      "source": [
        "submission = pd.DataFrame.from_dict({\n",
        "    'id': test_df.id,\n",
        "    'prediction': predictions\n",
        "})"
      ]
    },
    {
      "cell_type": "code",
      "execution_count": null,
      "id": "f0e1805e",
      "metadata": {
        "execution": {
          "iopub.status.busy": "2022-08-28T06:37:06.838721Z",
          "iopub.status.idle": "2022-08-28T06:37:06.839256Z",
          "shell.execute_reply": "2022-08-28T06:37:06.839017Z",
          "shell.execute_reply.started": "2022-08-28T06:37:06.838994Z"
        },
        "papermill": {
          "duration": null,
          "end_time": null,
          "exception": null,
          "start_time": null,
          "status": "completed"
        },
        "tags": [],
        "id": "f0e1805e"
      },
      "outputs": [],
      "source": [
        "submission.to_csv('submission.csv', index=False)"
      ]
    },
    {
      "cell_type": "code",
      "source": [
        "MODEL_NAME = 'my_model'"
      ],
      "metadata": {
        "id": "9nu9HqcjBNjX"
      },
      "id": "9nu9HqcjBNjX",
      "execution_count": null,
      "outputs": []
    },
    {
      "cell_type": "code",
      "source": [
        "test_df[MODEL_NAME] = predictions"
      ],
      "metadata": {
        "id": "y7UlHphqBhHk"
      },
      "id": "y7UlHphqBhHk",
      "execution_count": null,
      "outputs": []
    },
    {
      "cell_type": "code",
      "source": [],
      "metadata": {
        "colab": {
          "base_uri": "https://localhost:8080/",
          "height": 424
        },
        "id": "q-XHn4ffCMkX",
        "outputId": "ee658be6-6cad-4bd8-982e-d438300da249"
      },
      "id": "q-XHn4ffCMkX",
      "execution_count": null,
      "outputs": [
        {
          "output_type": "execute_result",
          "data": {
            "text/plain": [
              "          male  female  homosexual_gay_or_lesbian  christian  jewish  muslim  \\\n",
              "498523   False   False                      False      False   False   False   \n",
              "521700   False   False                      False      False   False   False   \n",
              "1791788  False   False                      False      False   False   False   \n",
              "1504490  False   False                      False      False   False   False   \n",
              "213338   False   False                      False      False   False   False   \n",
              "...        ...     ...                        ...        ...     ...     ...   \n",
              "1118415  False   False                      False      False   False   False   \n",
              "1008939  False   False                      False      False   False   False   \n",
              "553598   False   False                      False      False   False   False   \n",
              "1104904  False   False                      False      False   False   False   \n",
              "939002   False   False                      False      False   False   False   \n",
              "\n",
              "         black  white  psychiatric_or_mental_illness  \n",
              "498523   False  False                          False  \n",
              "521700   False  False                          False  \n",
              "1791788  False  False                          False  \n",
              "1504490  False   True                          False  \n",
              "213338   False  False                          False  \n",
              "...        ...    ...                            ...  \n",
              "1118415  False  False                          False  \n",
              "1008939  False  False                          False  \n",
              "553598   False  False                          False  \n",
              "1104904  False  False                          False  \n",
              "939002   False  False                          False  \n",
              "\n",
              "[1443899 rows x 9 columns]"
            ],
            "text/html": [
              "\n",
              "  <div id=\"df-2b3e325f-c241-4e9c-8fe3-53b23cf88f2d\">\n",
              "    <div class=\"colab-df-container\">\n",
              "      <div>\n",
              "<style scoped>\n",
              "    .dataframe tbody tr th:only-of-type {\n",
              "        vertical-align: middle;\n",
              "    }\n",
              "\n",
              "    .dataframe tbody tr th {\n",
              "        vertical-align: top;\n",
              "    }\n",
              "\n",
              "    .dataframe thead th {\n",
              "        text-align: right;\n",
              "    }\n",
              "</style>\n",
              "<table border=\"1\" class=\"dataframe\">\n",
              "  <thead>\n",
              "    <tr style=\"text-align: right;\">\n",
              "      <th></th>\n",
              "      <th>male</th>\n",
              "      <th>female</th>\n",
              "      <th>homosexual_gay_or_lesbian</th>\n",
              "      <th>christian</th>\n",
              "      <th>jewish</th>\n",
              "      <th>muslim</th>\n",
              "      <th>black</th>\n",
              "      <th>white</th>\n",
              "      <th>psychiatric_or_mental_illness</th>\n",
              "    </tr>\n",
              "  </thead>\n",
              "  <tbody>\n",
              "    <tr>\n",
              "      <th>498523</th>\n",
              "      <td>False</td>\n",
              "      <td>False</td>\n",
              "      <td>False</td>\n",
              "      <td>False</td>\n",
              "      <td>False</td>\n",
              "      <td>False</td>\n",
              "      <td>False</td>\n",
              "      <td>False</td>\n",
              "      <td>False</td>\n",
              "    </tr>\n",
              "    <tr>\n",
              "      <th>521700</th>\n",
              "      <td>False</td>\n",
              "      <td>False</td>\n",
              "      <td>False</td>\n",
              "      <td>False</td>\n",
              "      <td>False</td>\n",
              "      <td>False</td>\n",
              "      <td>False</td>\n",
              "      <td>False</td>\n",
              "      <td>False</td>\n",
              "    </tr>\n",
              "    <tr>\n",
              "      <th>1791788</th>\n",
              "      <td>False</td>\n",
              "      <td>False</td>\n",
              "      <td>False</td>\n",
              "      <td>False</td>\n",
              "      <td>False</td>\n",
              "      <td>False</td>\n",
              "      <td>False</td>\n",
              "      <td>False</td>\n",
              "      <td>False</td>\n",
              "    </tr>\n",
              "    <tr>\n",
              "      <th>1504490</th>\n",
              "      <td>False</td>\n",
              "      <td>False</td>\n",
              "      <td>False</td>\n",
              "      <td>False</td>\n",
              "      <td>False</td>\n",
              "      <td>False</td>\n",
              "      <td>False</td>\n",
              "      <td>True</td>\n",
              "      <td>False</td>\n",
              "    </tr>\n",
              "    <tr>\n",
              "      <th>213338</th>\n",
              "      <td>False</td>\n",
              "      <td>False</td>\n",
              "      <td>False</td>\n",
              "      <td>False</td>\n",
              "      <td>False</td>\n",
              "      <td>False</td>\n",
              "      <td>False</td>\n",
              "      <td>False</td>\n",
              "      <td>False</td>\n",
              "    </tr>\n",
              "    <tr>\n",
              "      <th>...</th>\n",
              "      <td>...</td>\n",
              "      <td>...</td>\n",
              "      <td>...</td>\n",
              "      <td>...</td>\n",
              "      <td>...</td>\n",
              "      <td>...</td>\n",
              "      <td>...</td>\n",
              "      <td>...</td>\n",
              "      <td>...</td>\n",
              "    </tr>\n",
              "    <tr>\n",
              "      <th>1118415</th>\n",
              "      <td>False</td>\n",
              "      <td>False</td>\n",
              "      <td>False</td>\n",
              "      <td>False</td>\n",
              "      <td>False</td>\n",
              "      <td>False</td>\n",
              "      <td>False</td>\n",
              "      <td>False</td>\n",
              "      <td>False</td>\n",
              "    </tr>\n",
              "    <tr>\n",
              "      <th>1008939</th>\n",
              "      <td>False</td>\n",
              "      <td>False</td>\n",
              "      <td>False</td>\n",
              "      <td>False</td>\n",
              "      <td>False</td>\n",
              "      <td>False</td>\n",
              "      <td>False</td>\n",
              "      <td>False</td>\n",
              "      <td>False</td>\n",
              "    </tr>\n",
              "    <tr>\n",
              "      <th>553598</th>\n",
              "      <td>False</td>\n",
              "      <td>False</td>\n",
              "      <td>False</td>\n",
              "      <td>False</td>\n",
              "      <td>False</td>\n",
              "      <td>False</td>\n",
              "      <td>False</td>\n",
              "      <td>False</td>\n",
              "      <td>False</td>\n",
              "    </tr>\n",
              "    <tr>\n",
              "      <th>1104904</th>\n",
              "      <td>False</td>\n",
              "      <td>False</td>\n",
              "      <td>False</td>\n",
              "      <td>False</td>\n",
              "      <td>False</td>\n",
              "      <td>False</td>\n",
              "      <td>False</td>\n",
              "      <td>False</td>\n",
              "      <td>False</td>\n",
              "    </tr>\n",
              "    <tr>\n",
              "      <th>939002</th>\n",
              "      <td>False</td>\n",
              "      <td>False</td>\n",
              "      <td>False</td>\n",
              "      <td>False</td>\n",
              "      <td>False</td>\n",
              "      <td>False</td>\n",
              "      <td>False</td>\n",
              "      <td>False</td>\n",
              "      <td>False</td>\n",
              "    </tr>\n",
              "  </tbody>\n",
              "</table>\n",
              "<p>1443899 rows × 9 columns</p>\n",
              "</div>\n",
              "      <button class=\"colab-df-convert\" onclick=\"convertToInteractive('df-2b3e325f-c241-4e9c-8fe3-53b23cf88f2d')\"\n",
              "              title=\"Convert this dataframe to an interactive table.\"\n",
              "              style=\"display:none;\">\n",
              "        \n",
              "  <svg xmlns=\"http://www.w3.org/2000/svg\" height=\"24px\"viewBox=\"0 0 24 24\"\n",
              "       width=\"24px\">\n",
              "    <path d=\"M0 0h24v24H0V0z\" fill=\"none\"/>\n",
              "    <path d=\"M18.56 5.44l.94 2.06.94-2.06 2.06-.94-2.06-.94-.94-2.06-.94 2.06-2.06.94zm-11 1L8.5 8.5l.94-2.06 2.06-.94-2.06-.94L8.5 2.5l-.94 2.06-2.06.94zm10 10l.94 2.06.94-2.06 2.06-.94-2.06-.94-.94-2.06-.94 2.06-2.06.94z\"/><path d=\"M17.41 7.96l-1.37-1.37c-.4-.4-.92-.59-1.43-.59-.52 0-1.04.2-1.43.59L10.3 9.45l-7.72 7.72c-.78.78-.78 2.05 0 2.83L4 21.41c.39.39.9.59 1.41.59.51 0 1.02-.2 1.41-.59l7.78-7.78 2.81-2.81c.8-.78.8-2.07 0-2.86zM5.41 20L4 18.59l7.72-7.72 1.47 1.35L5.41 20z\"/>\n",
              "  </svg>\n",
              "      </button>\n",
              "      \n",
              "  <style>\n",
              "    .colab-df-container {\n",
              "      display:flex;\n",
              "      flex-wrap:wrap;\n",
              "      gap: 12px;\n",
              "    }\n",
              "\n",
              "    .colab-df-convert {\n",
              "      background-color: #E8F0FE;\n",
              "      border: none;\n",
              "      border-radius: 50%;\n",
              "      cursor: pointer;\n",
              "      display: none;\n",
              "      fill: #1967D2;\n",
              "      height: 32px;\n",
              "      padding: 0 0 0 0;\n",
              "      width: 32px;\n",
              "    }\n",
              "\n",
              "    .colab-df-convert:hover {\n",
              "      background-color: #E2EBFA;\n",
              "      box-shadow: 0px 1px 2px rgba(60, 64, 67, 0.3), 0px 1px 3px 1px rgba(60, 64, 67, 0.15);\n",
              "      fill: #174EA6;\n",
              "    }\n",
              "\n",
              "    [theme=dark] .colab-df-convert {\n",
              "      background-color: #3B4455;\n",
              "      fill: #D2E3FC;\n",
              "    }\n",
              "\n",
              "    [theme=dark] .colab-df-convert:hover {\n",
              "      background-color: #434B5C;\n",
              "      box-shadow: 0px 1px 3px 1px rgba(0, 0, 0, 0.15);\n",
              "      filter: drop-shadow(0px 1px 2px rgba(0, 0, 0, 0.3));\n",
              "      fill: #FFFFFF;\n",
              "    }\n",
              "  </style>\n",
              "\n",
              "      <script>\n",
              "        const buttonEl =\n",
              "          document.querySelector('#df-2b3e325f-c241-4e9c-8fe3-53b23cf88f2d button.colab-df-convert');\n",
              "        buttonEl.style.display =\n",
              "          google.colab.kernel.accessAllowed ? 'block' : 'none';\n",
              "\n",
              "        async function convertToInteractive(key) {\n",
              "          const element = document.querySelector('#df-2b3e325f-c241-4e9c-8fe3-53b23cf88f2d');\n",
              "          const dataTable =\n",
              "            await google.colab.kernel.invokeFunction('convertToInteractive',\n",
              "                                                     [key], {});\n",
              "          if (!dataTable) return;\n",
              "\n",
              "          const docLinkHtml = 'Like what you see? Visit the ' +\n",
              "            '<a target=\"_blank\" href=https://colab.research.google.com/notebooks/data_table.ipynb>data table notebook</a>'\n",
              "            + ' to learn more about interactive tables.';\n",
              "          element.innerHTML = '';\n",
              "          dataTable['output_type'] = 'display_data';\n",
              "          await google.colab.output.renderOutput(dataTable, element);\n",
              "          const docLink = document.createElement('div');\n",
              "          docLink.innerHTML = docLinkHtml;\n",
              "          element.appendChild(docLink);\n",
              "        }\n",
              "      </script>\n",
              "    </div>\n",
              "  </div>\n",
              "  "
            ]
          },
          "metadata": {},
          "execution_count": 27
        }
      ]
    },
    {
      "cell_type": "code",
      "source": [
        "test_df[TARGET_COLUMN] = np.where(test_df[TARGET_COLUMN] >= 0.5, True, False)"
      ],
      "metadata": {
        "id": "WlqYuQ_dCgmV"
      },
      "id": "WlqYuQ_dCgmV",
      "execution_count": null,
      "outputs": []
    },
    {
      "cell_type": "code",
      "source": [
        "test_df.describe()"
      ],
      "metadata": {
        "colab": {
          "base_uri": "https://localhost:8080/",
          "height": 394
        },
        "id": "DICqCIODDZDS",
        "outputId": "a37939c3-1ff5-4a1f-b742-6fd5224a28df"
      },
      "id": "DICqCIODDZDS",
      "execution_count": null,
      "outputs": [
        {
          "output_type": "execute_result",
          "data": {
            "text/plain": [
              "                 id  severe_toxicity        obscene  identity_attack  \\\n",
              "count  3.609750e+05    360975.000000  360975.000000    360975.000000   \n",
              "mean   3.735097e+06         0.004631       0.013951         0.022782   \n",
              "std    2.445544e+06         0.022948       0.064738         0.078843   \n",
              "min    5.986300e+04         0.000000       0.000000         0.000000   \n",
              "25%    7.966190e+05         0.000000       0.000000         0.000000   \n",
              "50%    5.221180e+06         0.000000       0.000000         0.000000   \n",
              "75%    5.768046e+06         0.000000       0.000000         0.000000   \n",
              "max    6.334009e+06         0.500000       1.000000         1.000000   \n",
              "\n",
              "              insult         threat         asian       atheist      bisexual  \\\n",
              "count  360975.000000  360975.000000  80888.000000  80888.000000  80888.000000   \n",
              "mean        0.081333       0.009214      0.012008      0.003226      0.001754   \n",
              "std         0.176423       0.049213      0.087309      0.050081      0.024938   \n",
              "min         0.000000       0.000000      0.000000      0.000000      0.000000   \n",
              "25%         0.000000       0.000000      0.000000      0.000000      0.000000   \n",
              "50%         0.000000       0.000000      0.000000      0.000000      0.000000   \n",
              "75%         0.093178       0.000000      0.000000      0.000000      0.000000   \n",
              "max         1.000000       1.000000      1.000000      1.000000      1.000000   \n",
              "\n",
              "              black  ...     article_id          funny            wow  \\\n",
              "count  80888.000000  ...  360975.000000  360975.000000  360975.000000   \n",
              "mean       0.033747  ...  281205.756750       0.277354       0.043967   \n",
              "std        0.166166  ...  103955.511321       1.050266       0.247082   \n",
              "min        0.000000  ...    2006.000000       0.000000       0.000000   \n",
              "25%        0.000000  ...  160110.000000       0.000000       0.000000   \n",
              "50%        0.000000  ...  331941.000000       0.000000       0.000000   \n",
              "75%        0.000000  ...  366111.000000       0.000000       0.000000   \n",
              "max        1.000000  ...  399531.000000     102.000000      21.000000   \n",
              "\n",
              "                 sad          likes       disagree  sexual_explicit  \\\n",
              "count  360975.000000  360975.000000  360975.000000    360975.000000   \n",
              "mean        0.109010       2.454901       0.584866         0.006661   \n",
              "std         0.448369       4.777611       1.857185         0.045557   \n",
              "min         0.000000       0.000000       0.000000         0.000000   \n",
              "25%         0.000000       0.000000       0.000000         0.000000   \n",
              "50%         0.000000       1.000000       0.000000         0.000000   \n",
              "75%         0.000000       3.000000       0.000000         0.000000   \n",
              "max        15.000000     300.000000     116.000000         1.000000   \n",
              "\n",
              "       identity_annotator_count  toxicity_annotator_count       my_model  \n",
              "count             360975.000000             360975.000000  360975.000000  \n",
              "mean                   1.469515                  8.790958       0.141563  \n",
              "std                   19.298208                 43.793605       0.195715  \n",
              "min                    0.000000                  3.000000       0.001473  \n",
              "25%                    0.000000                  4.000000       0.014292  \n",
              "50%                    0.000000                  4.000000       0.042550  \n",
              "75%                    0.000000                  6.000000       0.187810  \n",
              "max                 1842.000000               3623.000000       0.952761  \n",
              "\n",
              "[8 rows x 42 columns]"
            ],
            "text/html": [
              "\n",
              "  <div id=\"df-0247f3b0-b1a9-4237-bb22-14159494c95e\">\n",
              "    <div class=\"colab-df-container\">\n",
              "      <div>\n",
              "<style scoped>\n",
              "    .dataframe tbody tr th:only-of-type {\n",
              "        vertical-align: middle;\n",
              "    }\n",
              "\n",
              "    .dataframe tbody tr th {\n",
              "        vertical-align: top;\n",
              "    }\n",
              "\n",
              "    .dataframe thead th {\n",
              "        text-align: right;\n",
              "    }\n",
              "</style>\n",
              "<table border=\"1\" class=\"dataframe\">\n",
              "  <thead>\n",
              "    <tr style=\"text-align: right;\">\n",
              "      <th></th>\n",
              "      <th>id</th>\n",
              "      <th>severe_toxicity</th>\n",
              "      <th>obscene</th>\n",
              "      <th>identity_attack</th>\n",
              "      <th>insult</th>\n",
              "      <th>threat</th>\n",
              "      <th>asian</th>\n",
              "      <th>atheist</th>\n",
              "      <th>bisexual</th>\n",
              "      <th>black</th>\n",
              "      <th>...</th>\n",
              "      <th>article_id</th>\n",
              "      <th>funny</th>\n",
              "      <th>wow</th>\n",
              "      <th>sad</th>\n",
              "      <th>likes</th>\n",
              "      <th>disagree</th>\n",
              "      <th>sexual_explicit</th>\n",
              "      <th>identity_annotator_count</th>\n",
              "      <th>toxicity_annotator_count</th>\n",
              "      <th>my_model</th>\n",
              "    </tr>\n",
              "  </thead>\n",
              "  <tbody>\n",
              "    <tr>\n",
              "      <th>count</th>\n",
              "      <td>3.609750e+05</td>\n",
              "      <td>360975.000000</td>\n",
              "      <td>360975.000000</td>\n",
              "      <td>360975.000000</td>\n",
              "      <td>360975.000000</td>\n",
              "      <td>360975.000000</td>\n",
              "      <td>80888.000000</td>\n",
              "      <td>80888.000000</td>\n",
              "      <td>80888.000000</td>\n",
              "      <td>80888.000000</td>\n",
              "      <td>...</td>\n",
              "      <td>360975.000000</td>\n",
              "      <td>360975.000000</td>\n",
              "      <td>360975.000000</td>\n",
              "      <td>360975.000000</td>\n",
              "      <td>360975.000000</td>\n",
              "      <td>360975.000000</td>\n",
              "      <td>360975.000000</td>\n",
              "      <td>360975.000000</td>\n",
              "      <td>360975.000000</td>\n",
              "      <td>360975.000000</td>\n",
              "    </tr>\n",
              "    <tr>\n",
              "      <th>mean</th>\n",
              "      <td>3.735097e+06</td>\n",
              "      <td>0.004631</td>\n",
              "      <td>0.013951</td>\n",
              "      <td>0.022782</td>\n",
              "      <td>0.081333</td>\n",
              "      <td>0.009214</td>\n",
              "      <td>0.012008</td>\n",
              "      <td>0.003226</td>\n",
              "      <td>0.001754</td>\n",
              "      <td>0.033747</td>\n",
              "      <td>...</td>\n",
              "      <td>281205.756750</td>\n",
              "      <td>0.277354</td>\n",
              "      <td>0.043967</td>\n",
              "      <td>0.109010</td>\n",
              "      <td>2.454901</td>\n",
              "      <td>0.584866</td>\n",
              "      <td>0.006661</td>\n",
              "      <td>1.469515</td>\n",
              "      <td>8.790958</td>\n",
              "      <td>0.141563</td>\n",
              "    </tr>\n",
              "    <tr>\n",
              "      <th>std</th>\n",
              "      <td>2.445544e+06</td>\n",
              "      <td>0.022948</td>\n",
              "      <td>0.064738</td>\n",
              "      <td>0.078843</td>\n",
              "      <td>0.176423</td>\n",
              "      <td>0.049213</td>\n",
              "      <td>0.087309</td>\n",
              "      <td>0.050081</td>\n",
              "      <td>0.024938</td>\n",
              "      <td>0.166166</td>\n",
              "      <td>...</td>\n",
              "      <td>103955.511321</td>\n",
              "      <td>1.050266</td>\n",
              "      <td>0.247082</td>\n",
              "      <td>0.448369</td>\n",
              "      <td>4.777611</td>\n",
              "      <td>1.857185</td>\n",
              "      <td>0.045557</td>\n",
              "      <td>19.298208</td>\n",
              "      <td>43.793605</td>\n",
              "      <td>0.195715</td>\n",
              "    </tr>\n",
              "    <tr>\n",
              "      <th>min</th>\n",
              "      <td>5.986300e+04</td>\n",
              "      <td>0.000000</td>\n",
              "      <td>0.000000</td>\n",
              "      <td>0.000000</td>\n",
              "      <td>0.000000</td>\n",
              "      <td>0.000000</td>\n",
              "      <td>0.000000</td>\n",
              "      <td>0.000000</td>\n",
              "      <td>0.000000</td>\n",
              "      <td>0.000000</td>\n",
              "      <td>...</td>\n",
              "      <td>2006.000000</td>\n",
              "      <td>0.000000</td>\n",
              "      <td>0.000000</td>\n",
              "      <td>0.000000</td>\n",
              "      <td>0.000000</td>\n",
              "      <td>0.000000</td>\n",
              "      <td>0.000000</td>\n",
              "      <td>0.000000</td>\n",
              "      <td>3.000000</td>\n",
              "      <td>0.001473</td>\n",
              "    </tr>\n",
              "    <tr>\n",
              "      <th>25%</th>\n",
              "      <td>7.966190e+05</td>\n",
              "      <td>0.000000</td>\n",
              "      <td>0.000000</td>\n",
              "      <td>0.000000</td>\n",
              "      <td>0.000000</td>\n",
              "      <td>0.000000</td>\n",
              "      <td>0.000000</td>\n",
              "      <td>0.000000</td>\n",
              "      <td>0.000000</td>\n",
              "      <td>0.000000</td>\n",
              "      <td>...</td>\n",
              "      <td>160110.000000</td>\n",
              "      <td>0.000000</td>\n",
              "      <td>0.000000</td>\n",
              "      <td>0.000000</td>\n",
              "      <td>0.000000</td>\n",
              "      <td>0.000000</td>\n",
              "      <td>0.000000</td>\n",
              "      <td>0.000000</td>\n",
              "      <td>4.000000</td>\n",
              "      <td>0.014292</td>\n",
              "    </tr>\n",
              "    <tr>\n",
              "      <th>50%</th>\n",
              "      <td>5.221180e+06</td>\n",
              "      <td>0.000000</td>\n",
              "      <td>0.000000</td>\n",
              "      <td>0.000000</td>\n",
              "      <td>0.000000</td>\n",
              "      <td>0.000000</td>\n",
              "      <td>0.000000</td>\n",
              "      <td>0.000000</td>\n",
              "      <td>0.000000</td>\n",
              "      <td>0.000000</td>\n",
              "      <td>...</td>\n",
              "      <td>331941.000000</td>\n",
              "      <td>0.000000</td>\n",
              "      <td>0.000000</td>\n",
              "      <td>0.000000</td>\n",
              "      <td>1.000000</td>\n",
              "      <td>0.000000</td>\n",
              "      <td>0.000000</td>\n",
              "      <td>0.000000</td>\n",
              "      <td>4.000000</td>\n",
              "      <td>0.042550</td>\n",
              "    </tr>\n",
              "    <tr>\n",
              "      <th>75%</th>\n",
              "      <td>5.768046e+06</td>\n",
              "      <td>0.000000</td>\n",
              "      <td>0.000000</td>\n",
              "      <td>0.000000</td>\n",
              "      <td>0.093178</td>\n",
              "      <td>0.000000</td>\n",
              "      <td>0.000000</td>\n",
              "      <td>0.000000</td>\n",
              "      <td>0.000000</td>\n",
              "      <td>0.000000</td>\n",
              "      <td>...</td>\n",
              "      <td>366111.000000</td>\n",
              "      <td>0.000000</td>\n",
              "      <td>0.000000</td>\n",
              "      <td>0.000000</td>\n",
              "      <td>3.000000</td>\n",
              "      <td>0.000000</td>\n",
              "      <td>0.000000</td>\n",
              "      <td>0.000000</td>\n",
              "      <td>6.000000</td>\n",
              "      <td>0.187810</td>\n",
              "    </tr>\n",
              "    <tr>\n",
              "      <th>max</th>\n",
              "      <td>6.334009e+06</td>\n",
              "      <td>0.500000</td>\n",
              "      <td>1.000000</td>\n",
              "      <td>1.000000</td>\n",
              "      <td>1.000000</td>\n",
              "      <td>1.000000</td>\n",
              "      <td>1.000000</td>\n",
              "      <td>1.000000</td>\n",
              "      <td>1.000000</td>\n",
              "      <td>1.000000</td>\n",
              "      <td>...</td>\n",
              "      <td>399531.000000</td>\n",
              "      <td>102.000000</td>\n",
              "      <td>21.000000</td>\n",
              "      <td>15.000000</td>\n",
              "      <td>300.000000</td>\n",
              "      <td>116.000000</td>\n",
              "      <td>1.000000</td>\n",
              "      <td>1842.000000</td>\n",
              "      <td>3623.000000</td>\n",
              "      <td>0.952761</td>\n",
              "    </tr>\n",
              "  </tbody>\n",
              "</table>\n",
              "<p>8 rows × 42 columns</p>\n",
              "</div>\n",
              "      <button class=\"colab-df-convert\" onclick=\"convertToInteractive('df-0247f3b0-b1a9-4237-bb22-14159494c95e')\"\n",
              "              title=\"Convert this dataframe to an interactive table.\"\n",
              "              style=\"display:none;\">\n",
              "        \n",
              "  <svg xmlns=\"http://www.w3.org/2000/svg\" height=\"24px\"viewBox=\"0 0 24 24\"\n",
              "       width=\"24px\">\n",
              "    <path d=\"M0 0h24v24H0V0z\" fill=\"none\"/>\n",
              "    <path d=\"M18.56 5.44l.94 2.06.94-2.06 2.06-.94-2.06-.94-.94-2.06-.94 2.06-2.06.94zm-11 1L8.5 8.5l.94-2.06 2.06-.94-2.06-.94L8.5 2.5l-.94 2.06-2.06.94zm10 10l.94 2.06.94-2.06 2.06-.94-2.06-.94-.94-2.06-.94 2.06-2.06.94z\"/><path d=\"M17.41 7.96l-1.37-1.37c-.4-.4-.92-.59-1.43-.59-.52 0-1.04.2-1.43.59L10.3 9.45l-7.72 7.72c-.78.78-.78 2.05 0 2.83L4 21.41c.39.39.9.59 1.41.59.51 0 1.02-.2 1.41-.59l7.78-7.78 2.81-2.81c.8-.78.8-2.07 0-2.86zM5.41 20L4 18.59l7.72-7.72 1.47 1.35L5.41 20z\"/>\n",
              "  </svg>\n",
              "      </button>\n",
              "      \n",
              "  <style>\n",
              "    .colab-df-container {\n",
              "      display:flex;\n",
              "      flex-wrap:wrap;\n",
              "      gap: 12px;\n",
              "    }\n",
              "\n",
              "    .colab-df-convert {\n",
              "      background-color: #E8F0FE;\n",
              "      border: none;\n",
              "      border-radius: 50%;\n",
              "      cursor: pointer;\n",
              "      display: none;\n",
              "      fill: #1967D2;\n",
              "      height: 32px;\n",
              "      padding: 0 0 0 0;\n",
              "      width: 32px;\n",
              "    }\n",
              "\n",
              "    .colab-df-convert:hover {\n",
              "      background-color: #E2EBFA;\n",
              "      box-shadow: 0px 1px 2px rgba(60, 64, 67, 0.3), 0px 1px 3px 1px rgba(60, 64, 67, 0.15);\n",
              "      fill: #174EA6;\n",
              "    }\n",
              "\n",
              "    [theme=dark] .colab-df-convert {\n",
              "      background-color: #3B4455;\n",
              "      fill: #D2E3FC;\n",
              "    }\n",
              "\n",
              "    [theme=dark] .colab-df-convert:hover {\n",
              "      background-color: #434B5C;\n",
              "      box-shadow: 0px 1px 3px 1px rgba(0, 0, 0, 0.15);\n",
              "      filter: drop-shadow(0px 1px 2px rgba(0, 0, 0, 0.3));\n",
              "      fill: #FFFFFF;\n",
              "    }\n",
              "  </style>\n",
              "\n",
              "      <script>\n",
              "        const buttonEl =\n",
              "          document.querySelector('#df-0247f3b0-b1a9-4237-bb22-14159494c95e button.colab-df-convert');\n",
              "        buttonEl.style.display =\n",
              "          google.colab.kernel.accessAllowed ? 'block' : 'none';\n",
              "\n",
              "        async function convertToInteractive(key) {\n",
              "          const element = document.querySelector('#df-0247f3b0-b1a9-4237-bb22-14159494c95e');\n",
              "          const dataTable =\n",
              "            await google.colab.kernel.invokeFunction('convertToInteractive',\n",
              "                                                     [key], {});\n",
              "          if (!dataTable) return;\n",
              "\n",
              "          const docLinkHtml = 'Like what you see? Visit the ' +\n",
              "            '<a target=\"_blank\" href=https://colab.research.google.com/notebooks/data_table.ipynb>data table notebook</a>'\n",
              "            + ' to learn more about interactive tables.';\n",
              "          element.innerHTML = '';\n",
              "          dataTable['output_type'] = 'display_data';\n",
              "          await google.colab.output.renderOutput(dataTable, element);\n",
              "          const docLink = document.createElement('div');\n",
              "          docLink.innerHTML = docLinkHtml;\n",
              "          element.appendChild(docLink);\n",
              "        }\n",
              "      </script>\n",
              "    </div>\n",
              "  </div>\n",
              "  "
            ]
          },
          "metadata": {},
          "execution_count": 31
        }
      ]
    },
    {
      "cell_type": "code",
      "source": [
        "for column in IDENTITY_COLUMNS:\n",
        "    test_df[column] = np.where(test_df[column] >= 0.5, True, False)"
      ],
      "metadata": {
        "id": "zYWmng49EIR9"
      },
      "id": "zYWmng49EIR9",
      "execution_count": null,
      "outputs": []
    },
    {
      "cell_type": "code",
      "source": [
        "SUBGROUP_AUC = 'Subgroup_AUC'\n",
        "BPSN_AUC = 'BPSN_AUC'  # stands for background positive, subgroup negative\n",
        "BNSP_AUC = 'BNSP_AUC'  # stands for background negative, subgroup positive\n",
        "\n",
        "def compute_auc(y_true, y_pred):\n",
        "    try:\n",
        "        return metrics.roc_auc_score(y_true, y_pred)\n",
        "    except ValueError:\n",
        "        return np.nan\n",
        "\n",
        "def compute_subgroup_auc(df, subgroup, label, model_name):\n",
        "    subgroup_examples = df[df[subgroup]]\n",
        "    return compute_auc(subgroup_examples[label], subgroup_examples[model_name])\n",
        "\n",
        "def compute_bpsn_auc(df, subgroup, label, model_name):\n",
        "    \"\"\"Computes the AUC of the within-subgroup negative examples and the background positive examples.\"\"\"\n",
        "    subgroup_negative_examples = df[df[subgroup] & ~df[label]]\n",
        "    non_subgroup_positive_examples = df[~df[subgroup] & df[label]]\n",
        "    examples = subgroup_negative_examples.append(non_subgroup_positive_examples)\n",
        "    return compute_auc(examples[label], examples[model_name])\n",
        "\n",
        "def compute_bnsp_auc(df, subgroup, label, model_name):\n",
        "    \"\"\"Computes the AUC of the within-subgroup positive examples and the background negative examples.\"\"\"\n",
        "    subgroup_positive_examples = df[df[subgroup] & df[label]]\n",
        "    non_subgroup_negative_examples = df[~df[subgroup] & ~df[label]]\n",
        "    examples = subgroup_positive_examples.append(non_subgroup_negative_examples)\n",
        "    return compute_auc(examples[label], examples[model_name])\n",
        "\n",
        "def compute_bias_metrics_for_model(dataset,\n",
        "                                   subgroups,\n",
        "                                   model,\n",
        "                                   label_col,\n",
        "                                   include_asegs=False):\n",
        "    \"\"\"Computes per-subgroup metrics for all subgroups and one model.\"\"\"\n",
        "    records = []\n",
        "    for subgroup in subgroups:\n",
        "        record = {\n",
        "            'subgroup': subgroup,\n",
        "            'subgroup_size': len(dataset[dataset[subgroup]])\n",
        "        }\n",
        "        record[SUBGROUP_AUC] = compute_subgroup_auc(dataset, subgroup, label_col, model)\n",
        "        record[BPSN_AUC] = compute_bpsn_auc(dataset, subgroup, label_col, model)\n",
        "        record[BNSP_AUC] = compute_bnsp_auc(dataset, subgroup, label_col, model)\n",
        "        records.append(record)\n",
        "    return pd.DataFrame(records).sort_values('Subgroup_AUC', ascending=True)"
      ],
      "metadata": {
        "id": "i3rESE4GQQUa"
      },
      "id": "i3rESE4GQQUa",
      "execution_count": null,
      "outputs": []
    },
    {
      "cell_type": "code",
      "source": [
        "bias_metrics_df = compute_bias_metrics_for_model(test_df, IDENTITY_COLUMNS, MODEL_NAME, TARGET_COLUMN)"
      ],
      "metadata": {
        "id": "LqJ7OEgqAKmI"
      },
      "id": "LqJ7OEgqAKmI",
      "execution_count": null,
      "outputs": []
    },
    {
      "cell_type": "code",
      "source": [
        "bias_metrics_df"
      ],
      "metadata": {
        "colab": {
          "base_uri": "https://localhost:8080/",
          "height": 332
        },
        "id": "vKDdAEL7F-jD",
        "outputId": "c506f8df-f6e6-4194-a732-df6a47009274"
      },
      "id": "vKDdAEL7F-jD",
      "execution_count": null,
      "outputs": [
        {
          "output_type": "execute_result",
          "data": {
            "text/plain": [
              "                        subgroup  subgroup_size  Subgroup_AUC  BPSN_AUC  \\\n",
              "2      homosexual_gay_or_lesbian           2216      0.849795  0.922098   \n",
              "7                          white           5014      0.865027  0.927466   \n",
              "6                          black           2928      0.869129  0.922117   \n",
              "5                         muslim           4232      0.874827  0.939179   \n",
              "4                         jewish           1482      0.903083  0.960673   \n",
              "8  psychiatric_or_mental_illness            940      0.923689  0.941196   \n",
              "1                         female          10682      0.930909  0.969788   \n",
              "0                           male           8892      0.933302  0.964524   \n",
              "3                      christian           8121      0.938338  0.977236   \n",
              "\n",
              "   BNSP_AUC  \n",
              "2  0.938024  \n",
              "7  0.942403  \n",
              "6  0.944991  \n",
              "5  0.935902  \n",
              "4  0.922801  \n",
              "8  0.956286  \n",
              "1  0.930703  \n",
              "0  0.938595  \n",
              "3  0.917969  "
            ],
            "text/html": [
              "\n",
              "  <div id=\"df-6b6ad1dc-3234-43b6-bc64-b73049b1a8a8\">\n",
              "    <div class=\"colab-df-container\">\n",
              "      <div>\n",
              "<style scoped>\n",
              "    .dataframe tbody tr th:only-of-type {\n",
              "        vertical-align: middle;\n",
              "    }\n",
              "\n",
              "    .dataframe tbody tr th {\n",
              "        vertical-align: top;\n",
              "    }\n",
              "\n",
              "    .dataframe thead th {\n",
              "        text-align: right;\n",
              "    }\n",
              "</style>\n",
              "<table border=\"1\" class=\"dataframe\">\n",
              "  <thead>\n",
              "    <tr style=\"text-align: right;\">\n",
              "      <th></th>\n",
              "      <th>subgroup</th>\n",
              "      <th>subgroup_size</th>\n",
              "      <th>Subgroup_AUC</th>\n",
              "      <th>BPSN_AUC</th>\n",
              "      <th>BNSP_AUC</th>\n",
              "    </tr>\n",
              "  </thead>\n",
              "  <tbody>\n",
              "    <tr>\n",
              "      <th>2</th>\n",
              "      <td>homosexual_gay_or_lesbian</td>\n",
              "      <td>2216</td>\n",
              "      <td>0.849795</td>\n",
              "      <td>0.922098</td>\n",
              "      <td>0.938024</td>\n",
              "    </tr>\n",
              "    <tr>\n",
              "      <th>7</th>\n",
              "      <td>white</td>\n",
              "      <td>5014</td>\n",
              "      <td>0.865027</td>\n",
              "      <td>0.927466</td>\n",
              "      <td>0.942403</td>\n",
              "    </tr>\n",
              "    <tr>\n",
              "      <th>6</th>\n",
              "      <td>black</td>\n",
              "      <td>2928</td>\n",
              "      <td>0.869129</td>\n",
              "      <td>0.922117</td>\n",
              "      <td>0.944991</td>\n",
              "    </tr>\n",
              "    <tr>\n",
              "      <th>5</th>\n",
              "      <td>muslim</td>\n",
              "      <td>4232</td>\n",
              "      <td>0.874827</td>\n",
              "      <td>0.939179</td>\n",
              "      <td>0.935902</td>\n",
              "    </tr>\n",
              "    <tr>\n",
              "      <th>4</th>\n",
              "      <td>jewish</td>\n",
              "      <td>1482</td>\n",
              "      <td>0.903083</td>\n",
              "      <td>0.960673</td>\n",
              "      <td>0.922801</td>\n",
              "    </tr>\n",
              "    <tr>\n",
              "      <th>8</th>\n",
              "      <td>psychiatric_or_mental_illness</td>\n",
              "      <td>940</td>\n",
              "      <td>0.923689</td>\n",
              "      <td>0.941196</td>\n",
              "      <td>0.956286</td>\n",
              "    </tr>\n",
              "    <tr>\n",
              "      <th>1</th>\n",
              "      <td>female</td>\n",
              "      <td>10682</td>\n",
              "      <td>0.930909</td>\n",
              "      <td>0.969788</td>\n",
              "      <td>0.930703</td>\n",
              "    </tr>\n",
              "    <tr>\n",
              "      <th>0</th>\n",
              "      <td>male</td>\n",
              "      <td>8892</td>\n",
              "      <td>0.933302</td>\n",
              "      <td>0.964524</td>\n",
              "      <td>0.938595</td>\n",
              "    </tr>\n",
              "    <tr>\n",
              "      <th>3</th>\n",
              "      <td>christian</td>\n",
              "      <td>8121</td>\n",
              "      <td>0.938338</td>\n",
              "      <td>0.977236</td>\n",
              "      <td>0.917969</td>\n",
              "    </tr>\n",
              "  </tbody>\n",
              "</table>\n",
              "</div>\n",
              "      <button class=\"colab-df-convert\" onclick=\"convertToInteractive('df-6b6ad1dc-3234-43b6-bc64-b73049b1a8a8')\"\n",
              "              title=\"Convert this dataframe to an interactive table.\"\n",
              "              style=\"display:none;\">\n",
              "        \n",
              "  <svg xmlns=\"http://www.w3.org/2000/svg\" height=\"24px\"viewBox=\"0 0 24 24\"\n",
              "       width=\"24px\">\n",
              "    <path d=\"M0 0h24v24H0V0z\" fill=\"none\"/>\n",
              "    <path d=\"M18.56 5.44l.94 2.06.94-2.06 2.06-.94-2.06-.94-.94-2.06-.94 2.06-2.06.94zm-11 1L8.5 8.5l.94-2.06 2.06-.94-2.06-.94L8.5 2.5l-.94 2.06-2.06.94zm10 10l.94 2.06.94-2.06 2.06-.94-2.06-.94-.94-2.06-.94 2.06-2.06.94z\"/><path d=\"M17.41 7.96l-1.37-1.37c-.4-.4-.92-.59-1.43-.59-.52 0-1.04.2-1.43.59L10.3 9.45l-7.72 7.72c-.78.78-.78 2.05 0 2.83L4 21.41c.39.39.9.59 1.41.59.51 0 1.02-.2 1.41-.59l7.78-7.78 2.81-2.81c.8-.78.8-2.07 0-2.86zM5.41 20L4 18.59l7.72-7.72 1.47 1.35L5.41 20z\"/>\n",
              "  </svg>\n",
              "      </button>\n",
              "      \n",
              "  <style>\n",
              "    .colab-df-container {\n",
              "      display:flex;\n",
              "      flex-wrap:wrap;\n",
              "      gap: 12px;\n",
              "    }\n",
              "\n",
              "    .colab-df-convert {\n",
              "      background-color: #E8F0FE;\n",
              "      border: none;\n",
              "      border-radius: 50%;\n",
              "      cursor: pointer;\n",
              "      display: none;\n",
              "      fill: #1967D2;\n",
              "      height: 32px;\n",
              "      padding: 0 0 0 0;\n",
              "      width: 32px;\n",
              "    }\n",
              "\n",
              "    .colab-df-convert:hover {\n",
              "      background-color: #E2EBFA;\n",
              "      box-shadow: 0px 1px 2px rgba(60, 64, 67, 0.3), 0px 1px 3px 1px rgba(60, 64, 67, 0.15);\n",
              "      fill: #174EA6;\n",
              "    }\n",
              "\n",
              "    [theme=dark] .colab-df-convert {\n",
              "      background-color: #3B4455;\n",
              "      fill: #D2E3FC;\n",
              "    }\n",
              "\n",
              "    [theme=dark] .colab-df-convert:hover {\n",
              "      background-color: #434B5C;\n",
              "      box-shadow: 0px 1px 3px 1px rgba(0, 0, 0, 0.15);\n",
              "      filter: drop-shadow(0px 1px 2px rgba(0, 0, 0, 0.3));\n",
              "      fill: #FFFFFF;\n",
              "    }\n",
              "  </style>\n",
              "\n",
              "      <script>\n",
              "        const buttonEl =\n",
              "          document.querySelector('#df-6b6ad1dc-3234-43b6-bc64-b73049b1a8a8 button.colab-df-convert');\n",
              "        buttonEl.style.display =\n",
              "          google.colab.kernel.accessAllowed ? 'block' : 'none';\n",
              "\n",
              "        async function convertToInteractive(key) {\n",
              "          const element = document.querySelector('#df-6b6ad1dc-3234-43b6-bc64-b73049b1a8a8');\n",
              "          const dataTable =\n",
              "            await google.colab.kernel.invokeFunction('convertToInteractive',\n",
              "                                                     [key], {});\n",
              "          if (!dataTable) return;\n",
              "\n",
              "          const docLinkHtml = 'Like what you see? Visit the ' +\n",
              "            '<a target=\"_blank\" href=https://colab.research.google.com/notebooks/data_table.ipynb>data table notebook</a>'\n",
              "            + ' to learn more about interactive tables.';\n",
              "          element.innerHTML = '';\n",
              "          dataTable['output_type'] = 'display_data';\n",
              "          await google.colab.output.renderOutput(dataTable, element);\n",
              "          const docLink = document.createElement('div');\n",
              "          docLink.innerHTML = docLinkHtml;\n",
              "          element.appendChild(docLink);\n",
              "        }\n",
              "      </script>\n",
              "    </div>\n",
              "  </div>\n",
              "  "
            ]
          },
          "metadata": {},
          "execution_count": 54
        }
      ]
    },
    {
      "cell_type": "code",
      "source": [
        "test_df['target_boolean'] = test_df['target']"
      ],
      "metadata": {
        "id": "21s58ZOpI_LN"
      },
      "id": "21s58ZOpI_LN",
      "execution_count": null,
      "outputs": []
    },
    {
      "cell_type": "code",
      "source": [
        "test_df['my_model_boolean'] = np.where(test_df['my_model'] >= 0.5, True, False)"
      ],
      "metadata": {
        "id": "BSVp30RfMrCe"
      },
      "id": "BSVp30RfMrCe",
      "execution_count": null,
      "outputs": []
    },
    {
      "cell_type": "code",
      "source": [
        "def calculate_overall_auc(df, model_name):\n",
        "    true_labels = df[TARGET_COLUMN]\n",
        "    predicted_labels = df[model_name]\n",
        "    return metrics.roc_auc_score(true_labels, predicted_labels)\n",
        "\n",
        "def power_mean(series, p):\n",
        "    total = sum(np.power(series, p))\n",
        "    return np.power(total / len(series), 1 / p)\n",
        "\n",
        "def get_final_metric(bias_df, overall_auc, POWER=-5, OVERALL_MODEL_WEIGHT=0.25):\n",
        "    bias_score = np.average([\n",
        "        power_mean(bias_df[SUBGROUP_AUC], POWER),\n",
        "        power_mean(bias_df[BPSN_AUC], POWER),\n",
        "        power_mean(bias_df[BNSP_AUC], POWER)\n",
        "    ])\n",
        "    print(\"Avg bias score: \"+ str(bias_score))\n",
        "    return (OVERALL_MODEL_WEIGHT * overall_auc) + ((1 - OVERALL_MODEL_WEIGHT) * bias_score)"
      ],
      "metadata": {
        "id": "uPDdSMmQM0Pt"
      },
      "id": "uPDdSMmQM0Pt",
      "execution_count": null,
      "outputs": []
    },
    {
      "cell_type": "code",
      "source": [
        "FINAL_SCORE = get_final_metric(bias_metrics_df, calculate_overall_auc(test_df, MODEL_NAME))"
      ],
      "metadata": {
        "colab": {
          "base_uri": "https://localhost:8080/"
        },
        "id": "7-iUNWdCOf21",
        "outputId": "546f443b-e7d7-4d25-d1cb-a885eaa10d8e"
      },
      "id": "7-iUNWdCOf21",
      "execution_count": null,
      "outputs": [
        {
          "output_type": "stream",
          "name": "stdout",
          "text": [
            "Avg bias score: 0.9256833325901176\n"
          ]
        }
      ]
    },
    {
      "cell_type": "code",
      "source": [
        "print(FINAL_SCORE)"
      ],
      "metadata": {
        "colab": {
          "base_uri": "https://localhost:8080/"
        },
        "id": "ClBdESVUS9hh",
        "outputId": "31b514c2-5898-495d-a44e-edf1f4f5010a"
      },
      "id": "ClBdESVUS9hh",
      "execution_count": null,
      "outputs": [
        {
          "output_type": "stream",
          "name": "stdout",
          "text": [
            "0.935659222369745\n"
          ]
        }
      ]
    },
    {
      "cell_type": "code",
      "source": [
        "calculate_overall_auc(test_df, MODEL_NAME)"
      ],
      "metadata": {
        "colab": {
          "base_uri": "https://localhost:8080/"
        },
        "id": "18S6EuzwOm-a",
        "outputId": "6b9fcbf4-a400-4e98-8b1e-eba56f3bbf8c"
      },
      "id": "18S6EuzwOm-a",
      "execution_count": null,
      "outputs": [
        {
          "output_type": "execute_result",
          "data": {
            "text/plain": [
              "0.965586891708627"
            ]
          },
          "metadata": {},
          "execution_count": 61
        }
      ]
    },
    {
      "cell_type": "code",
      "source": [
        "power_mean(bias_metrics_df[SUBGROUP_AUC], -5)"
      ],
      "metadata": {
        "colab": {
          "base_uri": "https://localhost:8080/"
        },
        "id": "5AaSreI3PWbl",
        "outputId": "ee5d4040-3f52-446b-df2d-0f370b9695ac"
      },
      "id": "5AaSreI3PWbl",
      "execution_count": null,
      "outputs": [
        {
          "output_type": "execute_result",
          "data": {
            "text/plain": [
              "0.8951562350842043"
            ]
          },
          "metadata": {},
          "execution_count": 64
        }
      ]
    },
    {
      "cell_type": "code",
      "source": [
        "power_mean(bias_metrics_df[BPSN_AUC], -5)"
      ],
      "metadata": {
        "colab": {
          "base_uri": "https://localhost:8080/"
        },
        "id": "4VNvlmAxPbV0",
        "outputId": "7b47e225-c134-4b55-baa2-eaae7b82dd31"
      },
      "id": "4VNvlmAxPbV0",
      "execution_count": null,
      "outputs": [
        {
          "output_type": "execute_result",
          "data": {
            "text/plain": [
              "0.9458670288191491"
            ]
          },
          "metadata": {},
          "execution_count": 65
        }
      ]
    },
    {
      "cell_type": "code",
      "source": [
        "power_mean(bias_metrics_df[BNSP_AUC], -5)"
      ],
      "metadata": {
        "colab": {
          "base_uri": "https://localhost:8080/"
        },
        "id": "F1CXnZR_RH2Q",
        "outputId": "03b2ef53-8ea3-4563-eed5-7a04d0f61714"
      },
      "id": "F1CXnZR_RH2Q",
      "execution_count": null,
      "outputs": [
        {
          "output_type": "execute_result",
          "data": {
            "text/plain": [
              "0.9360267338669996"
            ]
          },
          "metadata": {},
          "execution_count": 66
        }
      ]
    },
    {
      "cell_type": "code",
      "source": [
        "metrics_list = [['Overall_AUC', 0.965586891708627], ['Subgroup_AUC', 0.8951562350842043], ['BPSN_AUC', 0.9458670288191491], ['BNSP_AUC', 0.9360267338669996], ['Mean of bias AUCs', 0.9256833325901176], ['FINAL SCORE', 0.935659222369745]]"
      ],
      "metadata": {
        "id": "yZvNG04rRMh5"
      },
      "id": "yZvNG04rRMh5",
      "execution_count": null,
      "outputs": []
    },
    {
      "cell_type": "code",
      "source": [
        "metrics_df = pd.DataFrame(metrics_list, columns=['Metric', 'Score'])"
      ],
      "metadata": {
        "id": "2z7cB7m0TQx6"
      },
      "id": "2z7cB7m0TQx6",
      "execution_count": null,
      "outputs": []
    },
    {
      "cell_type": "code",
      "source": [
        "metrics_df"
      ],
      "metadata": {
        "colab": {
          "base_uri": "https://localhost:8080/",
          "height": 238
        },
        "id": "aEBp2MU0TiJm",
        "outputId": "a479c7e7-10f6-4e4b-a7bd-ffda173fc8eb"
      },
      "id": "aEBp2MU0TiJm",
      "execution_count": null,
      "outputs": [
        {
          "output_type": "execute_result",
          "data": {
            "text/plain": [
              "              Metric     Score\n",
              "0        Overall_AUC  0.965587\n",
              "1       Subgroup_AUC  0.895156\n",
              "2           BPSN_AUC  0.945867\n",
              "3           BNSP_AUC  0.936027\n",
              "4  Mean of bias AUCs  0.925683\n",
              "5        FINAL SCORE  0.935659"
            ],
            "text/html": [
              "\n",
              "  <div id=\"df-66dd7d1b-1684-4146-85cd-6a4792b5349d\">\n",
              "    <div class=\"colab-df-container\">\n",
              "      <div>\n",
              "<style scoped>\n",
              "    .dataframe tbody tr th:only-of-type {\n",
              "        vertical-align: middle;\n",
              "    }\n",
              "\n",
              "    .dataframe tbody tr th {\n",
              "        vertical-align: top;\n",
              "    }\n",
              "\n",
              "    .dataframe thead th {\n",
              "        text-align: right;\n",
              "    }\n",
              "</style>\n",
              "<table border=\"1\" class=\"dataframe\">\n",
              "  <thead>\n",
              "    <tr style=\"text-align: right;\">\n",
              "      <th></th>\n",
              "      <th>Metric</th>\n",
              "      <th>Score</th>\n",
              "    </tr>\n",
              "  </thead>\n",
              "  <tbody>\n",
              "    <tr>\n",
              "      <th>0</th>\n",
              "      <td>Overall_AUC</td>\n",
              "      <td>0.965587</td>\n",
              "    </tr>\n",
              "    <tr>\n",
              "      <th>1</th>\n",
              "      <td>Subgroup_AUC</td>\n",
              "      <td>0.895156</td>\n",
              "    </tr>\n",
              "    <tr>\n",
              "      <th>2</th>\n",
              "      <td>BPSN_AUC</td>\n",
              "      <td>0.945867</td>\n",
              "    </tr>\n",
              "    <tr>\n",
              "      <th>3</th>\n",
              "      <td>BNSP_AUC</td>\n",
              "      <td>0.936027</td>\n",
              "    </tr>\n",
              "    <tr>\n",
              "      <th>4</th>\n",
              "      <td>Mean of bias AUCs</td>\n",
              "      <td>0.925683</td>\n",
              "    </tr>\n",
              "    <tr>\n",
              "      <th>5</th>\n",
              "      <td>FINAL SCORE</td>\n",
              "      <td>0.935659</td>\n",
              "    </tr>\n",
              "  </tbody>\n",
              "</table>\n",
              "</div>\n",
              "      <button class=\"colab-df-convert\" onclick=\"convertToInteractive('df-66dd7d1b-1684-4146-85cd-6a4792b5349d')\"\n",
              "              title=\"Convert this dataframe to an interactive table.\"\n",
              "              style=\"display:none;\">\n",
              "        \n",
              "  <svg xmlns=\"http://www.w3.org/2000/svg\" height=\"24px\"viewBox=\"0 0 24 24\"\n",
              "       width=\"24px\">\n",
              "    <path d=\"M0 0h24v24H0V0z\" fill=\"none\"/>\n",
              "    <path d=\"M18.56 5.44l.94 2.06.94-2.06 2.06-.94-2.06-.94-.94-2.06-.94 2.06-2.06.94zm-11 1L8.5 8.5l.94-2.06 2.06-.94-2.06-.94L8.5 2.5l-.94 2.06-2.06.94zm10 10l.94 2.06.94-2.06 2.06-.94-2.06-.94-.94-2.06-.94 2.06-2.06.94z\"/><path d=\"M17.41 7.96l-1.37-1.37c-.4-.4-.92-.59-1.43-.59-.52 0-1.04.2-1.43.59L10.3 9.45l-7.72 7.72c-.78.78-.78 2.05 0 2.83L4 21.41c.39.39.9.59 1.41.59.51 0 1.02-.2 1.41-.59l7.78-7.78 2.81-2.81c.8-.78.8-2.07 0-2.86zM5.41 20L4 18.59l7.72-7.72 1.47 1.35L5.41 20z\"/>\n",
              "  </svg>\n",
              "      </button>\n",
              "      \n",
              "  <style>\n",
              "    .colab-df-container {\n",
              "      display:flex;\n",
              "      flex-wrap:wrap;\n",
              "      gap: 12px;\n",
              "    }\n",
              "\n",
              "    .colab-df-convert {\n",
              "      background-color: #E8F0FE;\n",
              "      border: none;\n",
              "      border-radius: 50%;\n",
              "      cursor: pointer;\n",
              "      display: none;\n",
              "      fill: #1967D2;\n",
              "      height: 32px;\n",
              "      padding: 0 0 0 0;\n",
              "      width: 32px;\n",
              "    }\n",
              "\n",
              "    .colab-df-convert:hover {\n",
              "      background-color: #E2EBFA;\n",
              "      box-shadow: 0px 1px 2px rgba(60, 64, 67, 0.3), 0px 1px 3px 1px rgba(60, 64, 67, 0.15);\n",
              "      fill: #174EA6;\n",
              "    }\n",
              "\n",
              "    [theme=dark] .colab-df-convert {\n",
              "      background-color: #3B4455;\n",
              "      fill: #D2E3FC;\n",
              "    }\n",
              "\n",
              "    [theme=dark] .colab-df-convert:hover {\n",
              "      background-color: #434B5C;\n",
              "      box-shadow: 0px 1px 3px 1px rgba(0, 0, 0, 0.15);\n",
              "      filter: drop-shadow(0px 1px 2px rgba(0, 0, 0, 0.3));\n",
              "      fill: #FFFFFF;\n",
              "    }\n",
              "  </style>\n",
              "\n",
              "      <script>\n",
              "        const buttonEl =\n",
              "          document.querySelector('#df-66dd7d1b-1684-4146-85cd-6a4792b5349d button.colab-df-convert');\n",
              "        buttonEl.style.display =\n",
              "          google.colab.kernel.accessAllowed ? 'block' : 'none';\n",
              "\n",
              "        async function convertToInteractive(key) {\n",
              "          const element = document.querySelector('#df-66dd7d1b-1684-4146-85cd-6a4792b5349d');\n",
              "          const dataTable =\n",
              "            await google.colab.kernel.invokeFunction('convertToInteractive',\n",
              "                                                     [key], {});\n",
              "          if (!dataTable) return;\n",
              "\n",
              "          const docLinkHtml = 'Like what you see? Visit the ' +\n",
              "            '<a target=\"_blank\" href=https://colab.research.google.com/notebooks/data_table.ipynb>data table notebook</a>'\n",
              "            + ' to learn more about interactive tables.';\n",
              "          element.innerHTML = '';\n",
              "          dataTable['output_type'] = 'display_data';\n",
              "          await google.colab.output.renderOutput(dataTable, element);\n",
              "          const docLink = document.createElement('div');\n",
              "          docLink.innerHTML = docLinkHtml;\n",
              "          element.appendChild(docLink);\n",
              "        }\n",
              "      </script>\n",
              "    </div>\n",
              "  </div>\n",
              "  "
            ]
          },
          "metadata": {},
          "execution_count": 80
        }
      ]
    },
    {
      "cell_type": "code",
      "source": [
        "fpr, tpr, _ = metrics.roc_curve(test_df[TARGET_COLUMN],  test_df[MODEL_NAME])\n",
        "auc = metrics.roc_auc_score(test_df[TARGET_COLUMN],  test_df[MODEL_NAME])"
      ],
      "metadata": {
        "id": "MQ4t1oScTwct"
      },
      "id": "MQ4t1oScTwct",
      "execution_count": null,
      "outputs": []
    },
    {
      "cell_type": "code",
      "source": [
        "#create ROC curve\n",
        "plt.plot(fpr,tpr,label=\"AUC=\"+str(auc))\n",
        "plt.ylabel('True Positive Rate')\n",
        "plt.xlabel('False Positive Rate')\n",
        "plt.legend(loc=4)\n",
        "plt.show()"
      ],
      "metadata": {
        "colab": {
          "base_uri": "https://localhost:8080/",
          "height": 279
        },
        "id": "h4sRgMn7VD9Z",
        "outputId": "47b36361-d768-49b8-b122-73e7c97f76ec"
      },
      "id": "h4sRgMn7VD9Z",
      "execution_count": null,
      "outputs": [
        {
          "output_type": "display_data",
          "data": {
            "text/plain": [
              "<Figure size 432x288 with 1 Axes>"
            ],
            "image/png": "[encoded data removed]"
          },
          "metadata": {
            "needs_background": "light"
          }
        }
      ]
    },
    {
      "cell_type": "code",
      "source": [
        "#Generate the confusion matrix\n",
        "cf_matrix = confusion_matrix(test_df[TARGET_COLUMN],  test_df['my_model_boolean'])\n",
        "\n",
        "print(cf_matrix)"
      ],
      "metadata": {
        "colab": {
          "base_uri": "https://localhost:8080/"
        },
        "id": "7iNsAcXxVpcC",
        "outputId": "d0b76c34-d991-4d28-e40b-93ebd6ea06f9"
      },
      "id": "7iNsAcXxVpcC",
      "execution_count": null,
      "outputs": [
        {
          "output_type": "stream",
          "name": "stdout",
          "text": [
            "[[319794  12254]\n",
            " [  7861  21066]]\n"
          ]
        }
      ]
    },
    {
      "cell_type": "code",
      "source": [
        "import seaborn as sns\n",
        "\n",
        "ax = sns.heatmap(cf_matrix, annot=True, cmap='Blues')\n",
        "\n",
        "ax.set_title('Confusion Matrix on Boolean metrics\\n\\n');\n",
        "ax.set_xlabel('\\nPredicted Values')\n",
        "ax.set_ylabel('Actual Values ');\n",
        "\n",
        "## Ticket labels - List must be in alphabetical order\n",
        "ax.xaxis.set_ticklabels(['False','True'])\n",
        "ax.yaxis.set_ticklabels(['False','True'])\n",
        "\n",
        "## Display the visualization of the Confusion Matrix.\n",
        "plt.show()"
      ],
      "metadata": {
        "colab": {
          "base_uri": "https://localhost:8080/",
          "height": 337
        },
        "id": "iaoQ-oOCW7-q",
        "outputId": "83f06c4c-ee6b-4305-853d-c4d4bf3dd6d5"
      },
      "id": "iaoQ-oOCW7-q",
      "execution_count": null,
      "outputs": [
        {
          "output_type": "display_data",
          "data": {
            "text/plain": [
              "<Figure size 432x288 with 2 Axes>"
            ],
            "image/png": "[encoded data removed]"
          },
          "metadata": {
            "needs_background": "light"
          }
        }
      ]
    },
    {
      "cell_type": "code",
      "source": [
        "ax = sns.heatmap(cf_matrix/np.sum(cf_matrix), annot=True, \n",
        "            fmt='.2%', cmap='Blues')\n",
        "\n",
        "ax.set_title('Confusion Matrix on Boolean metrics in percentage\\n\\n');\n",
        "ax.set_xlabel('\\nPredicted Values')\n",
        "ax.set_ylabel('Actual Values ');\n",
        "\n",
        "## Ticket labels - List must be in alphabetical order\n",
        "ax.xaxis.set_ticklabels(['False','True'])\n",
        "ax.yaxis.set_ticklabels(['False','True'])\n",
        "\n",
        "## Display the visualization of the Confusion Matrix.\n",
        "plt.show()"
      ],
      "metadata": {
        "colab": {
          "base_uri": "https://localhost:8080/",
          "height": 337
        },
        "id": "U0sSCOTigifL",
        "outputId": "fce5552a-94dd-4101-d15c-bbe227de97ae"
      },
      "id": "U0sSCOTigifL",
      "execution_count": null,
      "outputs": [
        {
          "output_type": "display_data",
          "data": {
            "text/plain": [
              "<Figure size 432x288 with 2 Axes>"
            ],
            "image/png": "[encoded data removed]"
          },
          "metadata": {
            "needs_background": "light"
          }
        }
      ]
    },
    {
      "cell_type": "code",
      "source": [
        "from sklearn.metrics import accuracy_score\n",
        "accuracy_score(test_df[TARGET_COLUMN],  test_df['my_model_boolean'])"
      ],
      "metadata": {
        "colab": {
          "base_uri": "https://localhost:8080/"
        },
        "id": "0F18Ud1ChGJ-",
        "outputId": "8a1d4ad0-a7e4-4a28-8a63-e7f7342d5aad"
      },
      "id": "0F18Ud1ChGJ-",
      "execution_count": null,
      "outputs": [
        {
          "output_type": "execute_result",
          "data": {
            "text/plain": [
              "0.944275919384999"
            ]
          },
          "metadata": {},
          "execution_count": 93
        }
      ]
    },
    {
      "cell_type": "code",
      "source": [
        "# Importing all necessary libraries\n",
        "from sklearn.metrics import precision_score\n",
        "\n",
        "# Calculating the precision score of classifier\n",
        "print(f\"Precision Score of the classifier is: {precision_score(test_df[TARGET_COLUMN],  test_df['my_model_boolean'])}\")"
      ],
      "metadata": {
        "colab": {
          "base_uri": "https://localhost:8080/"
        },
        "id": "kyo3KMPOiTON",
        "outputId": "8ab5ef30-529d-4d26-9c6a-dc1766565bdd"
      },
      "id": "kyo3KMPOiTON",
      "execution_count": null,
      "outputs": [
        {
          "output_type": "stream",
          "name": "stdout",
          "text": [
            "Precision Score of the classifier is: 0.6322328931572629\n"
          ]
        }
      ]
    },
    {
      "cell_type": "code",
      "source": [
        "# Importing all necessary libraries\n",
        "from sklearn.metrics import recall_score\n",
        "\n",
        "# Calculating the recall score of classifier\n",
        "print(f\"Recall Score of the classifier is: {recall_score(test_df[TARGET_COLUMN],  test_df['my_model_boolean'])}\")"
      ],
      "metadata": {
        "colab": {
          "base_uri": "https://localhost:8080/"
        },
        "id": "Sp4hEMafihL3",
        "outputId": "3efb9408-dbcc-4599-94cb-3e5f7895f716"
      },
      "id": "Sp4hEMafihL3",
      "execution_count": null,
      "outputs": [
        {
          "output_type": "stream",
          "name": "stdout",
          "text": [
            "Recall Score of the classifier is: 0.728246966501884\n"
          ]
        }
      ]
    },
    {
      "cell_type": "code",
      "source": [
        "# Importing all necessary libraries\n",
        "from sklearn.metrics import f1_score\n",
        "\n",
        "# Calculating the F1 score of classifier\n",
        "print(f\"F1 Score of the classifier is: {f1_score(test_df[TARGET_COLUMN],  test_df['my_model_boolean'])}\")"
      ],
      "metadata": {
        "colab": {
          "base_uri": "https://localhost:8080/"
        },
        "id": "BahCBxd4ipI5",
        "outputId": "1b8f4768-14b3-4021-9e03-99b839446d7f"
      },
      "id": "BahCBxd4ipI5",
      "execution_count": null,
      "outputs": [
        {
          "output_type": "stream",
          "name": "stdout",
          "text": [
            "F1 Score of the classifier is: 0.6768518964769387\n"
          ]
        }
      ]
    },
    {
      "cell_type": "code",
      "source": [
        "cf_list = [['Accuracy', 0.944275919384999], ['Precision', 0.6322328931572629], ['Recall', 0.728246966501884], ['F1 Score', 0.6768518964769387]]"
      ],
      "metadata": {
        "id": "4ysJAm83i53H"
      },
      "id": "4ysJAm83i53H",
      "execution_count": null,
      "outputs": []
    },
    {
      "cell_type": "code",
      "source": [
        "cf_df = pd.DataFrame(cf_list, columns=['Metric', 'Score'])"
      ],
      "metadata": {
        "id": "fHWJ7KvBjr8p"
      },
      "id": "fHWJ7KvBjr8p",
      "execution_count": null,
      "outputs": []
    },
    {
      "cell_type": "code",
      "source": [
        "cf_df"
      ],
      "metadata": {
        "colab": {
          "base_uri": "https://localhost:8080/",
          "height": 175
        },
        "id": "5JLwr27Sjyvx",
        "outputId": "f5187536-e85b-48eb-f56b-668b6a50f39c"
      },
      "id": "5JLwr27Sjyvx",
      "execution_count": null,
      "outputs": [
        {
          "output_type": "execute_result",
          "data": {
            "text/plain": [
              "      Metric     Score\n",
              "0   Accuracy  0.944276\n",
              "1  Precision  0.632233\n",
              "2     Recall  0.728247\n",
              "3   F1 Score  0.676852"
            ],
            "text/html": [
              "\n",
              "  <div id=\"df-129e0841-e96a-448e-8223-27a4171360ca\">\n",
              "    <div class=\"colab-df-container\">\n",
              "      <div>\n",
              "<style scoped>\n",
              "    .dataframe tbody tr th:only-of-type {\n",
              "        vertical-align: middle;\n",
              "    }\n",
              "\n",
              "    .dataframe tbody tr th {\n",
              "        vertical-align: top;\n",
              "    }\n",
              "\n",
              "    .dataframe thead th {\n",
              "        text-align: right;\n",
              "    }\n",
              "</style>\n",
              "<table border=\"1\" class=\"dataframe\">\n",
              "  <thead>\n",
              "    <tr style=\"text-align: right;\">\n",
              "      <th></th>\n",
              "      <th>Metric</th>\n",
              "      <th>Score</th>\n",
              "    </tr>\n",
              "  </thead>\n",
              "  <tbody>\n",
              "    <tr>\n",
              "      <th>0</th>\n",
              "      <td>Accuracy</td>\n",
              "      <td>0.944276</td>\n",
              "    </tr>\n",
              "    <tr>\n",
              "      <th>1</th>\n",
              "      <td>Precision</td>\n",
              "      <td>0.632233</td>\n",
              "    </tr>\n",
              "    <tr>\n",
              "      <th>2</th>\n",
              "      <td>Recall</td>\n",
              "      <td>0.728247</td>\n",
              "    </tr>\n",
              "    <tr>\n",
              "      <th>3</th>\n",
              "      <td>F1 Score</td>\n",
              "      <td>0.676852</td>\n",
              "    </tr>\n",
              "  </tbody>\n",
              "</table>\n",
              "</div>\n",
              "      <button class=\"colab-df-convert\" onclick=\"convertToInteractive('df-129e0841-e96a-448e-8223-27a4171360ca')\"\n",
              "              title=\"Convert this dataframe to an interactive table.\"\n",
              "              style=\"display:none;\">\n",
              "        \n",
              "  <svg xmlns=\"http://www.w3.org/2000/svg\" height=\"24px\"viewBox=\"0 0 24 24\"\n",
              "       width=\"24px\">\n",
              "    <path d=\"M0 0h24v24H0V0z\" fill=\"none\"/>\n",
              "    <path d=\"M18.56 5.44l.94 2.06.94-2.06 2.06-.94-2.06-.94-.94-2.06-.94 2.06-2.06.94zm-11 1L8.5 8.5l.94-2.06 2.06-.94-2.06-.94L8.5 2.5l-.94 2.06-2.06.94zm10 10l.94 2.06.94-2.06 2.06-.94-2.06-.94-.94-2.06-.94 2.06-2.06.94z\"/><path d=\"M17.41 7.96l-1.37-1.37c-.4-.4-.92-.59-1.43-.59-.52 0-1.04.2-1.43.59L10.3 9.45l-7.72 7.72c-.78.78-.78 2.05 0 2.83L4 21.41c.39.39.9.59 1.41.59.51 0 1.02-.2 1.41-.59l7.78-7.78 2.81-2.81c.8-.78.8-2.07 0-2.86zM5.41 20L4 18.59l7.72-7.72 1.47 1.35L5.41 20z\"/>\n",
              "  </svg>\n",
              "      </button>\n",
              "      \n",
              "  <style>\n",
              "    .colab-df-container {\n",
              "      display:flex;\n",
              "      flex-wrap:wrap;\n",
              "      gap: 12px;\n",
              "    }\n",
              "\n",
              "    .colab-df-convert {\n",
              "      background-color: #E8F0FE;\n",
              "      border: none;\n",
              "      border-radius: 50%;\n",
              "      cursor: pointer;\n",
              "      display: none;\n",
              "      fill: #1967D2;\n",
              "      height: 32px;\n",
              "      padding: 0 0 0 0;\n",
              "      width: 32px;\n",
              "    }\n",
              "\n",
              "    .colab-df-convert:hover {\n",
              "      background-color: #E2EBFA;\n",
              "      box-shadow: 0px 1px 2px rgba(60, 64, 67, 0.3), 0px 1px 3px 1px rgba(60, 64, 67, 0.15);\n",
              "      fill: #174EA6;\n",
              "    }\n",
              "\n",
              "    [theme=dark] .colab-df-convert {\n",
              "      background-color: #3B4455;\n",
              "      fill: #D2E3FC;\n",
              "    }\n",
              "\n",
              "    [theme=dark] .colab-df-convert:hover {\n",
              "      background-color: #434B5C;\n",
              "      box-shadow: 0px 1px 3px 1px rgba(0, 0, 0, 0.15);\n",
              "      filter: drop-shadow(0px 1px 2px rgba(0, 0, 0, 0.3));\n",
              "      fill: #FFFFFF;\n",
              "    }\n",
              "  </style>\n",
              "\n",
              "      <script>\n",
              "        const buttonEl =\n",
              "          document.querySelector('#df-129e0841-e96a-448e-8223-27a4171360ca button.colab-df-convert');\n",
              "        buttonEl.style.display =\n",
              "          google.colab.kernel.accessAllowed ? 'block' : 'none';\n",
              "\n",
              "        async function convertToInteractive(key) {\n",
              "          const element = document.querySelector('#df-129e0841-e96a-448e-8223-27a4171360ca');\n",
              "          const dataTable =\n",
              "            await google.colab.kernel.invokeFunction('convertToInteractive',\n",
              "                                                     [key], {});\n",
              "          if (!dataTable) return;\n",
              "\n",
              "          const docLinkHtml = 'Like what you see? Visit the ' +\n",
              "            '<a target=\"_blank\" href=https://colab.research.google.com/notebooks/data_table.ipynb>data table notebook</a>'\n",
              "            + ' to learn more about interactive tables.';\n",
              "          element.innerHTML = '';\n",
              "          dataTable['output_type'] = 'display_data';\n",
              "          await google.colab.output.renderOutput(dataTable, element);\n",
              "          const docLink = document.createElement('div');\n",
              "          docLink.innerHTML = docLinkHtml;\n",
              "          element.appendChild(docLink);\n",
              "        }\n",
              "      </script>\n",
              "    </div>\n",
              "  </div>\n",
              "  "
            ]
          },
          "metadata": {},
          "execution_count": 100
        }
      ]
    },
    {
      "cell_type": "code",
      "source": [
        "final_metric_list = [['Overall ROC_AUC score', 0.965586891708627], ['Accuracy based on Confusion matrix', 0.944275919384999], ['Final score on Kaggle metrics (Bias AUCs)', 0.935659222369745]]"
      ],
      "metadata": {
        "id": "ETQ1KaqCj0OS"
      },
      "id": "ETQ1KaqCj0OS",
      "execution_count": null,
      "outputs": []
    },
    {
      "cell_type": "code",
      "source": [
        "final_metric_df = pd.DataFrame(final_metric_list, columns=['Metric', 'Score'])"
      ],
      "metadata": {
        "id": "4lAuMzw8lWqZ"
      },
      "id": "4lAuMzw8lWqZ",
      "execution_count": null,
      "outputs": []
    },
    {
      "cell_type": "code",
      "source": [
        "final_metric_df"
      ],
      "metadata": {
        "colab": {
          "base_uri": "https://localhost:8080/",
          "height": 143
        },
        "id": "g5MwMgzQlfE-",
        "outputId": "4ed2d433-01a6-4fb5-c003-cb4223c18149"
      },
      "id": "g5MwMgzQlfE-",
      "execution_count": null,
      "outputs": [
        {
          "output_type": "execute_result",
          "data": {
            "text/plain": [
              "                                      Metric     Score\n",
              "0                      Overall ROC_AUC score  0.965587\n",
              "1         Accuracy based on Confusion matrix  0.944276\n",
              "2  Final score on Kaggle metrics (Bias AUCs)  0.935659"
            ],
            "text/html": [
              "\n",
              "  <div id=\"df-e894fccf-afec-44cb-902e-f14f8146dc33\">\n",
              "    <div class=\"colab-df-container\">\n",
              "      <div>\n",
              "<style scoped>\n",
              "    .dataframe tbody tr th:only-of-type {\n",
              "        vertical-align: middle;\n",
              "    }\n",
              "\n",
              "    .dataframe tbody tr th {\n",
              "        vertical-align: top;\n",
              "    }\n",
              "\n",
              "    .dataframe thead th {\n",
              "        text-align: right;\n",
              "    }\n",
              "</style>\n",
              "<table border=\"1\" class=\"dataframe\">\n",
              "  <thead>\n",
              "    <tr style=\"text-align: right;\">\n",
              "      <th></th>\n",
              "      <th>Metric</th>\n",
              "      <th>Score</th>\n",
              "    </tr>\n",
              "  </thead>\n",
              "  <tbody>\n",
              "    <tr>\n",
              "      <th>0</th>\n",
              "      <td>Overall ROC_AUC score</td>\n",
              "      <td>0.965587</td>\n",
              "    </tr>\n",
              "    <tr>\n",
              "      <th>1</th>\n",
              "      <td>Accuracy based on Confusion matrix</td>\n",
              "      <td>0.944276</td>\n",
              "    </tr>\n",
              "    <tr>\n",
              "      <th>2</th>\n",
              "      <td>Final score on Kaggle metrics (Bias AUCs)</td>\n",
              "      <td>0.935659</td>\n",
              "    </tr>\n",
              "  </tbody>\n",
              "</table>\n",
              "</div>\n",
              "      <button class=\"colab-df-convert\" onclick=\"convertToInteractive('df-e894fccf-afec-44cb-902e-f14f8146dc33')\"\n",
              "              title=\"Convert this dataframe to an interactive table.\"\n",
              "              style=\"display:none;\">\n",
              "        \n",
              "  <svg xmlns=\"http://www.w3.org/2000/svg\" height=\"24px\"viewBox=\"0 0 24 24\"\n",
              "       width=\"24px\">\n",
              "    <path d=\"M0 0h24v24H0V0z\" fill=\"none\"/>\n",
              "    <path d=\"M18.56 5.44l.94 2.06.94-2.06 2.06-.94-2.06-.94-.94-2.06-.94 2.06-2.06.94zm-11 1L8.5 8.5l.94-2.06 2.06-.94-2.06-.94L8.5 2.5l-.94 2.06-2.06.94zm10 10l.94 2.06.94-2.06 2.06-.94-2.06-.94-.94-2.06-.94 2.06-2.06.94z\"/><path d=\"M17.41 7.96l-1.37-1.37c-.4-.4-.92-.59-1.43-.59-.52 0-1.04.2-1.43.59L10.3 9.45l-7.72 7.72c-.78.78-.78 2.05 0 2.83L4 21.41c.39.39.9.59 1.41.59.51 0 1.02-.2 1.41-.59l7.78-7.78 2.81-2.81c.8-.78.8-2.07 0-2.86zM5.41 20L4 18.59l7.72-7.72 1.47 1.35L5.41 20z\"/>\n",
              "  </svg>\n",
              "      </button>\n",
              "      \n",
              "  <style>\n",
              "    .colab-df-container {\n",
              "      display:flex;\n",
              "      flex-wrap:wrap;\n",
              "      gap: 12px;\n",
              "    }\n",
              "\n",
              "    .colab-df-convert {\n",
              "      background-color: #E8F0FE;\n",
              "      border: none;\n",
              "      border-radius: 50%;\n",
              "      cursor: pointer;\n",
              "      display: none;\n",
              "      fill: #1967D2;\n",
              "      height: 32px;\n",
              "      padding: 0 0 0 0;\n",
              "      width: 32px;\n",
              "    }\n",
              "\n",
              "    .colab-df-convert:hover {\n",
              "      background-color: #E2EBFA;\n",
              "      box-shadow: 0px 1px 2px rgba(60, 64, 67, 0.3), 0px 1px 3px 1px rgba(60, 64, 67, 0.15);\n",
              "      fill: #174EA6;\n",
              "    }\n",
              "\n",
              "    [theme=dark] .colab-df-convert {\n",
              "      background-color: #3B4455;\n",
              "      fill: #D2E3FC;\n",
              "    }\n",
              "\n",
              "    [theme=dark] .colab-df-convert:hover {\n",
              "      background-color: #434B5C;\n",
              "      box-shadow: 0px 1px 3px 1px rgba(0, 0, 0, 0.15);\n",
              "      filter: drop-shadow(0px 1px 2px rgba(0, 0, 0, 0.3));\n",
              "      fill: #FFFFFF;\n",
              "    }\n",
              "  </style>\n",
              "\n",
              "      <script>\n",
              "        const buttonEl =\n",
              "          document.querySelector('#df-e894fccf-afec-44cb-902e-f14f8146dc33 button.colab-df-convert');\n",
              "        buttonEl.style.display =\n",
              "          google.colab.kernel.accessAllowed ? 'block' : 'none';\n",
              "\n",
              "        async function convertToInteractive(key) {\n",
              "          const element = document.querySelector('#df-e894fccf-afec-44cb-902e-f14f8146dc33');\n",
              "          const dataTable =\n",
              "            await google.colab.kernel.invokeFunction('convertToInteractive',\n",
              "                                                     [key], {});\n",
              "          if (!dataTable) return;\n",
              "\n",
              "          const docLinkHtml = 'Like what you see? Visit the ' +\n",
              "            '<a target=\"_blank\" href=https://colab.research.google.com/notebooks/data_table.ipynb>data table notebook</a>'\n",
              "            + ' to learn more about interactive tables.';\n",
              "          element.innerHTML = '';\n",
              "          dataTable['output_type'] = 'display_data';\n",
              "          await google.colab.output.renderOutput(dataTable, element);\n",
              "          const docLink = document.createElement('div');\n",
              "          docLink.innerHTML = docLinkHtml;\n",
              "          element.appendChild(docLink);\n",
              "        }\n",
              "      </script>\n",
              "    </div>\n",
              "  </div>\n",
              "  "
            ]
          },
          "metadata": {},
          "execution_count": 103
        }
      ]
    },
    {
      "cell_type": "code",
      "source": [],
      "metadata": {
        "id": "xF_l1ikglgWM"
      },
      "id": "xF_l1ikglgWM",
      "execution_count": null,
      "outputs": []
    }
  ],
  "metadata": {
    "kernelspec": {
      "display_name": "Python 3",
      "language": "python",
      "name": "python3"
    },
    "language_info": {
      "codemirror_mode": {
        "name": "ipython",
        "version": 3
      },
      "file_extension": ".py",
      "mimetype": "text/x-python",
      "name": "python",
      "nbconvert_exporter": "python",
      "pygments_lexer": "ipython3",
      "version": "3.6.4"
    },
    "papermill": {
      "default_parameters": {},
      "duration": 2162.766177,
      "end_time": "2022-08-28T07:45:09.074455",
      "environment_variables": {},
      "exception": null,
      "input_path": "__notebook__.ipynb",
      "output_path": "__notebook__.ipynb",
      "parameters": {},
      "start_time": "2022-08-28T07:09:06.308278",
      "version": "2.3.4"
    },
    "colab": {
      "provenance": [],
      "collapsed_sections": []
    },
    "accelerator": "GPU",
    "gpuClass": "standard"
  },
  "nbformat": 4,
  "nbformat_minor": 5
}